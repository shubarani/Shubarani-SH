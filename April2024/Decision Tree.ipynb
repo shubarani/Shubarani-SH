{
 "cells": [
  {
   "cell_type": "code",
   "execution_count": 1,
   "id": "d797b384-490f-4e04-b8f6-a873211b5470",
   "metadata": {},
   "outputs": [],
   "source": [
    "import numpy as np"
   ]
  },
  {
   "cell_type": "code",
   "execution_count": 2,
   "id": "a8ad1433-07b6-4a0a-9829-009f80861f9c",
   "metadata": {},
   "outputs": [],
   "source": [
    "p_yes=9/14\n",
    "p_no=5/14"
   ]
  },
  {
   "cell_type": "code",
   "execution_count": 3,
   "id": "6c49c1fb-bd55-48ef-ae3e-0456b2968809",
   "metadata": {},
   "outputs": [],
   "source": [
    "E = -p_yes*np.log2(p_yes)-p_no*np.log2(p_no)"
   ]
  },
  {
   "cell_type": "code",
   "execution_count": 4,
   "id": "96169562-62ca-4dd8-a838-93366973e316",
   "metadata": {},
   "outputs": [
    {
     "data": {
      "text/plain": [
       "0.9402859586706311"
      ]
     },
     "execution_count": 4,
     "metadata": {},
     "output_type": "execute_result"
    }
   ],
   "source": [
    "E"
   ]
  },
  {
   "cell_type": "code",
   "execution_count": null,
   "id": "897e3614-545a-4458-ac41-07c398f37d9f",
   "metadata": {},
   "outputs": [],
   "source": []
  }
 ],
 "metadata": {
  "kernelspec": {
   "display_name": "Python 3 (ipykernel)",
   "language": "python",
   "name": "python3"
  },
  "language_info": {
   "codemirror_mode": {
    "name": "ipython",
    "version": 3
   },
   "file_extension": ".py",
   "mimetype": "text/x-python",
   "name": "python",
   "nbconvert_exporter": "python",
   "pygments_lexer": "ipython3",
   "version": "3.12.1"
  }
 },
 "nbformat": 4,
 "nbformat_minor": 5
}
