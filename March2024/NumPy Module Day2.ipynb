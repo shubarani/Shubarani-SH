{
 "cells": [
  {
   "cell_type": "code",
   "execution_count": 1,
   "id": "682c3751-ec87-4db3-9794-2c3541e96f41",
   "metadata": {},
   "outputs": [],
   "source": [
    "import numpy as np"
   ]
  },
  {
   "cell_type": "code",
   "execution_count": 2,
   "id": "12e654f6-bdf9-455d-828d-890453ef70d2",
   "metadata": {},
   "outputs": [],
   "source": [
    "arr1=np.arange(1,37).reshape(6,6)"
   ]
  },
  {
   "cell_type": "code",
   "execution_count": 3,
   "id": "cef8eb64-d6af-4015-8aff-bd8706db5ae7",
   "metadata": {},
   "outputs": [
    {
     "data": {
      "text/plain": [
       "array([[ 1,  2,  3,  4,  5,  6],\n",
       "       [ 7,  8,  9, 10, 11, 12],\n",
       "       [13, 14, 15, 16, 17, 18],\n",
       "       [19, 20, 21, 22, 23, 24],\n",
       "       [25, 26, 27, 28, 29, 30],\n",
       "       [31, 32, 33, 34, 35, 36]])"
      ]
     },
     "execution_count": 3,
     "metadata": {},
     "output_type": "execute_result"
    }
   ],
   "source": [
    "arr1"
   ]
  },
  {
   "cell_type": "code",
   "execution_count": 13,
   "id": "43dc79a7-2039-48d3-8b2a-9332e532f808",
   "metadata": {},
   "outputs": [
    {
     "data": {
      "text/plain": [
       "array([[ 1,  2,  3],\n",
       "       [13, 14, 15],\n",
       "       [25, 26, 27]])"
      ]
     },
     "execution_count": 13,
     "metadata": {},
     "output_type": "execute_result"
    }
   ],
   "source": [
    "arr1[0:5:2,0:3:1]"
   ]
  },
  {
   "cell_type": "code",
   "execution_count": 21,
   "id": "7bf898cd-540e-4ef9-8b20-6f168541462d",
   "metadata": {},
   "outputs": [
    {
     "data": {
      "text/plain": [
       "array([[ 8,  9, 10],\n",
       "       [14, 15, 16],\n",
       "       [32, 33, 34]])"
      ]
     },
     "execution_count": 21,
     "metadata": {},
     "output_type": "execute_result"
    }
   ],
   "source": [
    "arr1[[1,2,5],1:4:1]"
   ]
  },
  {
   "cell_type": "code",
   "execution_count": 37,
   "id": "c562ee82-68bd-45ec-b67c-10655360f0ca",
   "metadata": {},
   "outputs": [
    {
     "data": {
      "text/plain": [
       "array([[ 8, 10, 12],\n",
       "       [20, 22, 24],\n",
       "       [32, 34, 36]])"
      ]
     },
     "execution_count": 37,
     "metadata": {},
     "output_type": "execute_result"
    }
   ],
   "source": [
    "arr1[[1,3,5],1::2]"
   ]
  },
  {
   "cell_type": "code",
   "execution_count": 38,
   "id": "37daeba7-2791-494b-8a33-37835f35ae26",
   "metadata": {},
   "outputs": [],
   "source": [
    "arr1=np."
   ]
  },
  {
   "cell_type": "code",
   "execution_count": 39,
   "id": "36dbf4f2-f4cf-4d2a-b40e-9545b5a47c3b",
   "metadata": {},
   "outputs": [
    {
     "data": {
      "text/plain": [
       "array([0, 1, 2])"
      ]
     },
     "execution_count": 39,
     "metadata": {},
     "output_type": "execute_result"
    }
   ],
   "source": [
    "arr1"
   ]
  },
  {
   "cell_type": "code",
   "execution_count": 45,
   "id": "d7e2092c-357f-4bd2-b84d-5fc7e54a7ba3",
   "metadata": {},
   "outputs": [],
   "source": [
    "arr1=np.random.choice(range(10),4).reshape(2,2)"
   ]
  },
  {
   "cell_type": "code",
   "execution_count": 46,
   "id": "66fe91ae-c753-4b06-a1b5-65f01c9e6bf2",
   "metadata": {},
   "outputs": [],
   "source": [
    "arr2=np.random.choice(range(10),4).reshape(2,2)"
   ]
  },
  {
   "cell_type": "code",
   "execution_count": 48,
   "id": "090bdc67-26aa-426c-96c3-3183c065e0e7",
   "metadata": {},
   "outputs": [
    {
     "data": {
      "text/plain": [
       "(array([[8, 9],\n",
       "        [5, 1]]),\n",
       " array([[0, 5],\n",
       "        [0, 0]]))"
      ]
     },
     "execution_count": 48,
     "metadata": {},
     "output_type": "execute_result"
    }
   ],
   "source": [
    "arr1,arr2"
   ]
  },
  {
   "cell_type": "code",
   "execution_count": 49,
   "id": "aa9bf2eb-70d8-42be-aed3-095165df0b91",
   "metadata": {},
   "outputs": [
    {
     "data": {
      "text/plain": [
       "array([[ 8, 14],\n",
       "       [ 5,  1]])"
      ]
     },
     "execution_count": 49,
     "metadata": {},
     "output_type": "execute_result"
    }
   ],
   "source": [
    "arr1+arr2"
   ]
  },
  {
   "cell_type": "code",
   "execution_count": 50,
   "id": "53c912bc-f398-4f90-84ba-756077f418e5",
   "metadata": {},
   "outputs": [
    {
     "data": {
      "text/plain": [
       "array([[8, 4],\n",
       "       [5, 1]])"
      ]
     },
     "execution_count": 50,
     "metadata": {},
     "output_type": "execute_result"
    }
   ],
   "source": [
    "arr1-arr2"
   ]
  },
  {
   "cell_type": "code",
   "execution_count": 51,
   "id": "432d595f-a047-42da-83ce-805ca3200e72",
   "metadata": {},
   "outputs": [
    {
     "data": {
      "text/plain": [
       "array([[10, 11],\n",
       "       [ 7,  3]])"
      ]
     },
     "execution_count": 51,
     "metadata": {},
     "output_type": "execute_result"
    }
   ],
   "source": [
    "arr1+2"
   ]
  },
  {
   "cell_type": "code",
   "execution_count": 55,
   "id": "71d90734-009d-4d3c-87ca-efd9609f1972",
   "metadata": {},
   "outputs": [
    {
     "data": {
      "text/plain": [
       "array([[0, 5],\n",
       "       [0, 0]])"
      ]
     },
     "execution_count": 55,
     "metadata": {},
     "output_type": "execute_result"
    }
   ],
   "source": [
    "arr1-3\n",
    "arr1\n",
    "arr2"
   ]
  },
  {
   "cell_type": "code",
   "execution_count": 56,
   "id": "67951736-8a5c-43ca-95cf-8bee46341972",
   "metadata": {},
   "outputs": [
    {
     "data": {
      "text/plain": [
       "array([[8, 9],\n",
       "       [5, 1]])"
      ]
     },
     "execution_count": 56,
     "metadata": {},
     "output_type": "execute_result"
    }
   ],
   "source": [
    "arr1"
   ]
  },
  {
   "cell_type": "code",
   "execution_count": 59,
   "id": "f104e1b0-41f9-42f6-918a-c9385c635996",
   "metadata": {},
   "outputs": [],
   "source": [
    "arr2=np.random.choice(range(10),4).reshape(2,2)"
   ]
  },
  {
   "cell_type": "code",
   "execution_count": 61,
   "id": "82c86c85-e9fc-4536-91e4-0442210f4fbc",
   "metadata": {},
   "outputs": [
    {
     "data": {
      "text/plain": [
       "array([[2, 3],\n",
       "       [9, 2]])"
      ]
     },
     "execution_count": 61,
     "metadata": {},
     "output_type": "execute_result"
    }
   ],
   "source": [
    "arr2"
   ]
  },
  {
   "cell_type": "code",
   "execution_count": 62,
   "id": "6481cfcf-6282-49bf-9492-c376f843859c",
   "metadata": {},
   "outputs": [
    {
     "data": {
      "text/plain": [
       "array([[8, 9],\n",
       "       [5, 1]])"
      ]
     },
     "execution_count": 62,
     "metadata": {},
     "output_type": "execute_result"
    }
   ],
   "source": [
    "arr1"
   ]
  },
  {
   "cell_type": "code",
   "execution_count": 63,
   "id": "3a5669bd-de8f-46a1-a255-bfd8066de48e",
   "metadata": {},
   "outputs": [
    {
     "data": {
      "text/plain": [
       "array([[2, 3],\n",
       "       [9, 2]])"
      ]
     },
     "execution_count": 63,
     "metadata": {},
     "output_type": "execute_result"
    }
   ],
   "source": [
    "arr2"
   ]
  },
  {
   "cell_type": "code",
   "execution_count": 64,
   "id": "25861616-a4b5-420f-a483-64043d36f8d0",
   "metadata": {},
   "outputs": [
    {
     "data": {
      "text/plain": [
       "array([[16, 27],\n",
       "       [45,  2]])"
      ]
     },
     "execution_count": 64,
     "metadata": {},
     "output_type": "execute_result"
    }
   ],
   "source": [
    "arr1*arr2"
   ]
  },
  {
   "cell_type": "code",
   "execution_count": 65,
   "id": "ce691b48-7c05-48ea-875e-445dc3c25550",
   "metadata": {},
   "outputs": [],
   "source": [
    "arr3=np.dot(arr1,arr2)"
   ]
  },
  {
   "cell_type": "code",
   "execution_count": 66,
   "id": "4da4c296-813b-4fb7-b088-5f51437d9949",
   "metadata": {},
   "outputs": [
    {
     "data": {
      "text/plain": [
       "array([[97, 42],\n",
       "       [19, 17]])"
      ]
     },
     "execution_count": 66,
     "metadata": {},
     "output_type": "execute_result"
    }
   ],
   "source": [
    "arr3"
   ]
  },
  {
   "cell_type": "code",
   "execution_count": 67,
   "id": "86d89e8c-70f8-4872-9f6f-06e0f28f1531",
   "metadata": {},
   "outputs": [
    {
     "data": {
      "text/plain": [
       "array([[4.        , 3.        ],\n",
       "       [0.55555556, 0.5       ]])"
      ]
     },
     "execution_count": 67,
     "metadata": {},
     "output_type": "execute_result"
    }
   ],
   "source": [
    "arr1/arr2"
   ]
  },
  {
   "cell_type": "code",
   "execution_count": 71,
   "id": "e21e5b70-e0c2-48aa-8f80-123f5a217324",
   "metadata": {},
   "outputs": [
    {
     "data": {
      "text/plain": [
       "array([[0, 1, 2, 3, 4],\n",
       "       [5, 6, 7, 8, 9]])"
      ]
     },
     "execution_count": 71,
     "metadata": {},
     "output_type": "execute_result"
    }
   ],
   "source": [
    "arr4=np.arange(10).reshape(2,5)\n",
    "arr4"
   ]
  },
  {
   "cell_type": "code",
   "execution_count": 72,
   "id": "ade19de0-d18b-4005-b697-382824658633",
   "metadata": {},
   "outputs": [],
   "source": [
    "arr5=np.linspace(4,10,11)"
   ]
  },
  {
   "cell_type": "code",
   "execution_count": 73,
   "id": "2618810e-d203-47f1-9f6e-096970ec3a15",
   "metadata": {},
   "outputs": [
    {
     "data": {
      "text/plain": [
       "array([ 4. ,  4.6,  5.2,  5.8,  6.4,  7. ,  7.6,  8.2,  8.8,  9.4, 10. ])"
      ]
     },
     "execution_count": 73,
     "metadata": {},
     "output_type": "execute_result"
    }
   ],
   "source": [
    "arr5"
   ]
  },
  {
   "cell_type": "code",
   "execution_count": 74,
   "id": "8c261e4f-4d29-4328-ac41-1dd3ed8e2f94",
   "metadata": {},
   "outputs": [],
   "source": [
    "arr6=np.linspace(1,10,5)"
   ]
  },
  {
   "cell_type": "code",
   "execution_count": 75,
   "id": "7273c74f-3aa2-4a39-bc9f-2565df6ed2d0",
   "metadata": {},
   "outputs": [
    {
     "data": {
      "text/plain": [
       "array([ 1.  ,  3.25,  5.5 ,  7.75, 10.  ])"
      ]
     },
     "execution_count": 75,
     "metadata": {},
     "output_type": "execute_result"
    }
   ],
   "source": [
    "arr6"
   ]
  },
  {
   "cell_type": "code",
   "execution_count": 85,
   "id": "67ece926-d673-4bd1-b10b-57777437fbbb",
   "metadata": {},
   "outputs": [],
   "source": [
    "arr1=np.random.randint(1,9,6).reshape(3,2)"
   ]
  },
  {
   "cell_type": "code",
   "execution_count": 86,
   "id": "670b89aa-59ca-4c5c-81ff-062114bc7b1b",
   "metadata": {},
   "outputs": [
    {
     "data": {
      "text/plain": [
       "array([[8, 8],\n",
       "       [6, 7],\n",
       "       [8, 4]])"
      ]
     },
     "execution_count": 86,
     "metadata": {},
     "output_type": "execute_result"
    }
   ],
   "source": [
    "arr1"
   ]
  },
  {
   "cell_type": "code",
   "execution_count": 88,
   "id": "2b6cd529-c7c4-4299-80b0-20a1d0592f14",
   "metadata": {},
   "outputs": [],
   "source": [
    "arr2=np.array([[6,8]])"
   ]
  },
  {
   "cell_type": "code",
   "execution_count": 89,
   "id": "09184559-a651-4d57-8769-76e5ee09e375",
   "metadata": {},
   "outputs": [
    {
     "data": {
      "text/plain": [
       "array([[6, 8]])"
      ]
     },
     "execution_count": 89,
     "metadata": {},
     "output_type": "execute_result"
    }
   ],
   "source": [
    "arr2"
   ]
  },
  {
   "cell_type": "code",
   "execution_count": 110,
   "id": "bf269793-95b1-4175-8a26-4a1e78a786bf",
   "metadata": {},
   "outputs": [],
   "source": [
    "arr4=np.concatenate((arr1,arr2),axis=0)"
   ]
  },
  {
   "cell_type": "code",
   "execution_count": 111,
   "id": "e2ea013e-7285-4fac-9582-1323d09b2193",
   "metadata": {},
   "outputs": [
    {
     "data": {
      "text/plain": [
       "array([[8, 8],\n",
       "       [6, 7],\n",
       "       [8, 4],\n",
       "       [6, 8]])"
      ]
     },
     "execution_count": 111,
     "metadata": {},
     "output_type": "execute_result"
    }
   ],
   "source": [
    "arr3"
   ]
  },
  {
   "cell_type": "code",
   "execution_count": 117,
   "id": "1b1475aa-9cd5-4b24-95fc-7f5d4893db26",
   "metadata": {},
   "outputs": [
    {
     "data": {
      "text/plain": [
       "array([[4, 8],\n",
       "       [5, 4],\n",
       "       [6, 8]])"
      ]
     },
     "execution_count": 117,
     "metadata": {},
     "output_type": "execute_result"
    }
   ],
   "source": [
    "arr1=np.random.randint(1,9,6).reshape(3,2)\n",
    "arr1"
   ]
  },
  {
   "cell_type": "code",
   "execution_count": 118,
   "id": "a518de3c-65ea-4e63-a224-638e7367cfeb",
   "metadata": {},
   "outputs": [
    {
     "data": {
      "text/plain": [
       "array([[2, 8],\n",
       "       [4, 5],\n",
       "       [2, 4]])"
      ]
     },
     "execution_count": 118,
     "metadata": {},
     "output_type": "execute_result"
    }
   ],
   "source": [
    "arr2=np.random.randint(1,9,6).reshape(3,2)\n",
    "arr2"
   ]
  },
  {
   "cell_type": "code",
   "execution_count": 123,
   "id": "f0508b14-5cdf-4347-ab21-b6c0e5d6b2a5",
   "metadata": {},
   "outputs": [],
   "source": [
    "arr3=np.concatenate((arr1,arr2),axis=1)"
   ]
  },
  {
   "cell_type": "code",
   "execution_count": 124,
   "id": "6bfdadb5-2f35-4e92-8df3-a23957fbb8a8",
   "metadata": {},
   "outputs": [
    {
     "data": {
      "text/plain": [
       "array([[4, 8, 2, 8],\n",
       "       [5, 4, 4, 5],\n",
       "       [6, 8, 2, 4]])"
      ]
     },
     "execution_count": 124,
     "metadata": {},
     "output_type": "execute_result"
    }
   ],
   "source": [
    "arr3"
   ]
  },
  {
   "cell_type": "code",
   "execution_count": 127,
   "id": "8737cc4b-72d1-4ed5-ab7b-e8f5c1b203dd",
   "metadata": {},
   "outputs": [],
   "source": [
    "arr1=np.random.choice(range(10),6).reshape(3,2)"
   ]
  },
  {
   "cell_type": "code",
   "execution_count": 128,
   "id": "9c6ee760-370f-4097-b8fa-d67fca527262",
   "metadata": {},
   "outputs": [
    {
     "data": {
      "text/plain": [
       "array([[4, 3],\n",
       "       [6, 1],\n",
       "       [1, 0]])"
      ]
     },
     "execution_count": 128,
     "metadata": {},
     "output_type": "execute_result"
    }
   ],
   "source": [
    "arr1"
   ]
  },
  {
   "cell_type": "code",
   "execution_count": 134,
   "id": "4714b530-9708-444a-ab3f-3aef9f27f94a",
   "metadata": {},
   "outputs": [],
   "source": [
    "arr1=np.random.randint(34)"
   ]
  },
  {
   "cell_type": "code",
   "execution_count": 135,
   "id": "7b050e72-1887-403c-bccc-9eeff394e0ed",
   "metadata": {},
   "outputs": [
    {
     "data": {
      "text/plain": [
       "33"
      ]
     },
     "execution_count": 135,
     "metadata": {},
     "output_type": "execute_result"
    }
   ],
   "source": [
    "arr1"
   ]
  },
  {
   "cell_type": "code",
   "execution_count": 138,
   "id": "8f430a9c-3669-427b-99e6-b1dccf52f44c",
   "metadata": {},
   "outputs": [],
   "source": [
    "arr2=np.random.randint(1,3,3)"
   ]
  },
  {
   "cell_type": "code",
   "execution_count": 139,
   "id": "9af36884-605f-433e-9b03-bf1af28e43c1",
   "metadata": {},
   "outputs": [
    {
     "data": {
      "text/plain": [
       "array([2, 1, 1])"
      ]
     },
     "execution_count": 139,
     "metadata": {},
     "output_type": "execute_result"
    }
   ],
   "source": [
    "arr2"
   ]
  },
  {
   "cell_type": "code",
   "execution_count": 142,
   "id": "7dc6c24b-0772-4c40-9cad-cfe3f910d112",
   "metadata": {},
   "outputs": [],
   "source": [
    "arr3=np.random.choice(range(10),6).reshape(3,2)"
   ]
  },
  {
   "cell_type": "code",
   "execution_count": 143,
   "id": "9de44894-9253-477c-9c03-d9bc5a5f4499",
   "metadata": {},
   "outputs": [
    {
     "data": {
      "text/plain": [
       "array([[9, 1],\n",
       "       [7, 0],\n",
       "       [9, 1]])"
      ]
     },
     "execution_count": 143,
     "metadata": {},
     "output_type": "execute_result"
    }
   ],
   "source": [
    "arr3"
   ]
  },
  {
   "cell_type": "code",
   "execution_count": 144,
   "id": "7a039d91-86be-4057-b7f6-a15ea6d93ff3",
   "metadata": {},
   "outputs": [],
   "source": [
    "arr4=np.linspace(1,10,3)"
   ]
  },
  {
   "cell_type": "code",
   "execution_count": 145,
   "id": "1e895533-0e61-4e02-9961-5364e210082a",
   "metadata": {},
   "outputs": [
    {
     "data": {
      "text/plain": [
       "array([ 1. ,  5.5, 10. ])"
      ]
     },
     "execution_count": 145,
     "metadata": {},
     "output_type": "execute_result"
    }
   ],
   "source": [
    "arr4"
   ]
  },
  {
   "cell_type": "code",
   "execution_count": 163,
   "id": "0560e7d7-1cc8-4f0a-b6c1-d5ef931c09ce",
   "metadata": {},
   "outputs": [
    {
     "data": {
      "text/plain": [
       "array([[8, 0],\n",
       "       [4, 6]])"
      ]
     },
     "execution_count": 163,
     "metadata": {},
     "output_type": "execute_result"
    }
   ],
   "source": [
    "arr1=np.array([[8,0],[4,6]])\n",
    "arr1"
   ]
  },
  {
   "cell_type": "code",
   "execution_count": 164,
   "id": "c7e4c9ea-ea1e-4200-ba79-79a2bfa8057b",
   "metadata": {},
   "outputs": [
    {
     "data": {
      "text/plain": [
       "array([[4, 7],\n",
       "       [8, 5]])"
      ]
     },
     "execution_count": 164,
     "metadata": {},
     "output_type": "execute_result"
    }
   ],
   "source": [
    "arr2=np.array([[4,7],[8,5]])\n",
    "arr2"
   ]
  },
  {
   "cell_type": "code",
   "execution_count": 165,
   "id": "e94ca0ba-be2a-4d0c-b2c7-b21e4c8de241",
   "metadata": {},
   "outputs": [],
   "source": [
    "arr3=np.stack((arr1, arr2),axis=1)"
   ]
  },
  {
   "cell_type": "code",
   "execution_count": 166,
   "id": "5df78142-fd79-4a77-bbe2-7e4129f0d26a",
   "metadata": {},
   "outputs": [
    {
     "data": {
      "text/plain": [
       "array([[[8, 0],\n",
       "        [4, 7]],\n",
       "\n",
       "       [[4, 6],\n",
       "        [8, 5]]])"
      ]
     },
     "execution_count": 166,
     "metadata": {},
     "output_type": "execute_result"
    }
   ],
   "source": [
    "arr3"
   ]
  },
  {
   "cell_type": "code",
   "execution_count": 174,
   "id": "ce71b064-67d0-4311-b206-5ed9477cf7bb",
   "metadata": {},
   "outputs": [],
   "source": [
    "arr4=np.hstack((arr1, arr2))"
   ]
  },
  {
   "cell_type": "code",
   "execution_count": 175,
   "id": "0e8eca1d-264f-4cbd-858e-907aee6b96ed",
   "metadata": {},
   "outputs": [
    {
     "data": {
      "text/plain": [
       "array([[8, 0, 4, 7],\n",
       "       [4, 6, 8, 5]])"
      ]
     },
     "execution_count": 175,
     "metadata": {},
     "output_type": "execute_result"
    }
   ],
   "source": [
    "arr4"
   ]
  },
  {
   "cell_type": "code",
   "execution_count": 176,
   "id": "d19d3abb-4e5d-4a39-b48c-2733085f3a5d",
   "metadata": {},
   "outputs": [],
   "source": [
    "arr1=np.random.randint(34)"
   ]
  },
  {
   "cell_type": "code",
   "execution_count": 177,
   "id": "e484d80e-b89f-4872-a2e4-f86a2b70cfe4",
   "metadata": {},
   "outputs": [
    {
     "data": {
      "text/plain": [
       "1"
      ]
     },
     "execution_count": 177,
     "metadata": {},
     "output_type": "execute_result"
    }
   ],
   "source": [
    "arr1"
   ]
  },
  {
   "cell_type": "code",
   "execution_count": 179,
   "id": "0c59ec98-29f1-4764-9115-c9efef69be26",
   "metadata": {},
   "outputs": [],
   "source": [
    "arr2=np.random.randint(100,500,10)"
   ]
  },
  {
   "cell_type": "code",
   "execution_count": 180,
   "id": "cb64f7eb-d654-4b84-b223-c222662ed7c3",
   "metadata": {},
   "outputs": [
    {
     "data": {
      "text/plain": [
       "array([491, 489, 408, 484, 466, 283, 344, 299, 160, 275])"
      ]
     },
     "execution_count": 180,
     "metadata": {},
     "output_type": "execute_result"
    }
   ],
   "source": [
    "arr2"
   ]
  },
  {
   "cell_type": "code",
   "execution_count": 181,
   "id": "39b25907-e7a5-43ad-a031-929e9a79ff12",
   "metadata": {},
   "outputs": [],
   "source": [
    "arr1=np.random.rand(10)"
   ]
  },
  {
   "cell_type": "code",
   "execution_count": 182,
   "id": "63c47140-ea17-4720-bcd0-aa45155f3ccf",
   "metadata": {},
   "outputs": [
    {
     "data": {
      "text/plain": [
       "array([0.15590888, 0.6116194 , 0.13195017, 0.2008047 , 0.90496832,\n",
       "       0.09386907, 0.13533434, 0.02521378, 0.00336821, 0.92038862])"
      ]
     },
     "execution_count": 182,
     "metadata": {},
     "output_type": "execute_result"
    }
   ],
   "source": [
    "arr1"
   ]
  },
  {
   "cell_type": "code",
   "execution_count": 183,
   "id": "f1363cec-5a30-4d48-9488-b1aec161c649",
   "metadata": {},
   "outputs": [],
   "source": [
    "arr=np.split(arr1,(1,2))"
   ]
  },
  {
   "cell_type": "code",
   "execution_count": 184,
   "id": "294cba0d-d3f0-4b5a-a9df-041ee77aa773",
   "metadata": {},
   "outputs": [
    {
     "data": {
      "text/plain": [
       "[array([0.15590888]),\n",
       " array([0.6116194]),\n",
       " array([0.13195017, 0.2008047 , 0.90496832, 0.09386907, 0.13533434,\n",
       "        0.02521378, 0.00336821, 0.92038862])]"
      ]
     },
     "execution_count": 184,
     "metadata": {},
     "output_type": "execute_result"
    }
   ],
   "source": [
    "arr"
   ]
  },
  {
   "cell_type": "code",
   "execution_count": 185,
   "id": "55a40415-0401-4e09-921d-f187c2a51251",
   "metadata": {},
   "outputs": [],
   "source": [
    "arr1=np.arange(1,25).reshape(6,4)"
   ]
  },
  {
   "cell_type": "code",
   "execution_count": 186,
   "id": "2c9ee59f-8aeb-4c7e-a607-10606f56da60",
   "metadata": {},
   "outputs": [
    {
     "data": {
      "text/plain": [
       "array([[ 1,  2,  3,  4],\n",
       "       [ 5,  6,  7,  8],\n",
       "       [ 9, 10, 11, 12],\n",
       "       [13, 14, 15, 16],\n",
       "       [17, 18, 19, 20],\n",
       "       [21, 22, 23, 24]])"
      ]
     },
     "execution_count": 186,
     "metadata": {},
     "output_type": "execute_result"
    }
   ],
   "source": [
    "arr1"
   ]
  },
  {
   "cell_type": "code",
   "execution_count": 187,
   "id": "f3884dd5-2ce4-4997-8e60-1f91c509ee08",
   "metadata": {},
   "outputs": [
    {
     "data": {
      "text/plain": [
       "7"
      ]
     },
     "execution_count": 187,
     "metadata": {},
     "output_type": "execute_result"
    }
   ],
   "source": [
    "arr1[1,2]"
   ]
  },
  {
   "cell_type": "code",
   "execution_count": 188,
   "id": "67a955cd-0eab-4d62-919e-d3cf2c5e49bb",
   "metadata": {},
   "outputs": [
    {
     "data": {
      "text/plain": [
       "7"
      ]
     },
     "execution_count": 188,
     "metadata": {},
     "output_type": "execute_result"
    }
   ],
   "source": [
    "arr1[1][2]"
   ]
  },
  {
   "cell_type": "code",
   "execution_count": 189,
   "id": "0726db16-058c-4f6a-97e6-2912843e784f",
   "metadata": {},
   "outputs": [
    {
     "data": {
      "text/plain": [
       "array([[ 6,  7],\n",
       "       [10, 11],\n",
       "       [14, 15]])"
      ]
     },
     "execution_count": 189,
     "metadata": {},
     "output_type": "execute_result"
    }
   ],
   "source": [
    "arr1[1:4,1:3]"
   ]
  },
  {
   "cell_type": "code",
   "execution_count": 190,
   "id": "97bb7655-34f5-444a-a2fb-847d674f15d2",
   "metadata": {},
   "outputs": [],
   "source": [
    "arr6=np.arange(1,37).reshape(6,6)"
   ]
  },
  {
   "cell_type": "code",
   "execution_count": 191,
   "id": "7f61d8cb-92fe-4141-97be-15e068b67296",
   "metadata": {},
   "outputs": [
    {
     "data": {
      "text/plain": [
       "array([[ 1,  2,  3,  4,  5,  6],\n",
       "       [ 7,  8,  9, 10, 11, 12],\n",
       "       [13, 14, 15, 16, 17, 18],\n",
       "       [19, 20, 21, 22, 23, 24],\n",
       "       [25, 26, 27, 28, 29, 30],\n",
       "       [31, 32, 33, 34, 35, 36]])"
      ]
     },
     "execution_count": 191,
     "metadata": {},
     "output_type": "execute_result"
    }
   ],
   "source": [
    "arr6"
   ]
  },
  {
   "cell_type": "code",
   "execution_count": 193,
   "id": "8a130d2b-8ea4-463f-9534-8380ca46bff3",
   "metadata": {},
   "outputs": [
    {
     "data": {
      "text/plain": [
       "array([[15, 16, 17],\n",
       "       [21, 22, 23],\n",
       "       [27, 28, 29]])"
      ]
     },
     "execution_count": 193,
     "metadata": {},
     "output_type": "execute_result"
    }
   ],
   "source": [
    "arr6[2:5,2:5]"
   ]
  },
  {
   "cell_type": "code",
   "execution_count": 201,
   "id": "98f50147-a83d-41bf-bfc5-3df5bae6e473",
   "metadata": {},
   "outputs": [
    {
     "data": {
      "text/plain": [
       "array([[ 1,  2,  3],\n",
       "       [13, 14, 15],\n",
       "       [25, 26, 27]])"
      ]
     },
     "execution_count": 201,
     "metadata": {},
     "output_type": "execute_result"
    }
   ],
   "source": [
    "arr6[::2, :3:1]"
   ]
  },
  {
   "cell_type": "code",
   "execution_count": 220,
   "id": "8cb38fe6-bdd2-43e0-a5e5-f3b6ef75f1eb",
   "metadata": {},
   "outputs": [
    {
     "data": {
      "text/plain": [
       "array([[ 8,  9, 10],\n",
       "       [14, 15, 16],\n",
       "       [32, 33, 34]])"
      ]
     },
     "execution_count": 220,
     "metadata": {},
     "output_type": "execute_result"
    }
   ],
   "source": [
    "arr6[[1,2,5],1:4]"
   ]
  },
  {
   "cell_type": "code",
   "execution_count": 234,
   "id": "adda321d-88ea-4578-b3d0-fa735daf63e5",
   "metadata": {},
   "outputs": [
    {
     "data": {
      "text/plain": [
       "array([[15, 16, 17],\n",
       "       [21, 22, 23],\n",
       "       [27, 28, 29]])"
      ]
     },
     "execution_count": 234,
     "metadata": {},
     "output_type": "execute_result"
    }
   ],
   "source": [
    "arr6[2:5:,2:5:1]"
   ]
  },
  {
   "cell_type": "code",
   "execution_count": 2,
   "id": "5ce38521-5413-40a9-944e-55286f3f9a20",
   "metadata": {},
   "outputs": [
    {
     "data": {
      "text/plain": [
       "20"
      ]
     },
     "execution_count": 2,
     "metadata": {},
     "output_type": "execute_result"
    }
   ],
   "source": [
    "import numpy as np\n",
    "arr1=np.random.randint(34)\n",
    "arr1"
   ]
  },
  {
   "cell_type": "code",
   "execution_count": 4,
   "id": "3a7c7e3a-7f1b-430a-a6fa-51d5fe58ac04",
   "metadata": {},
   "outputs": [
    {
     "data": {
      "text/plain": [
       "array([350, 115, 205, 163, 388, 129, 343])"
      ]
     },
     "execution_count": 4,
     "metadata": {},
     "output_type": "execute_result"
    }
   ],
   "source": [
    "arr2=np.random.randint(100,500,7)\n",
    "arr2"
   ]
  },
  {
   "cell_type": "code",
   "execution_count": 7,
   "id": "dd863fd1-e370-4190-9284-de743fd7e542",
   "metadata": {},
   "outputs": [
    {
     "data": {
      "text/plain": [
       "array([ 0. ,  2.5,  5. ,  7.5, 10. ])"
      ]
     },
     "execution_count": 7,
     "metadata": {},
     "output_type": "execute_result"
    }
   ],
   "source": [
    "arr3=np.linspace(0,10,5)\n",
    "arr3"
   ]
  },
  {
   "cell_type": "code",
   "execution_count": 17,
   "id": "56f4adc2-e2dd-4fd4-915a-243a58dbf814",
   "metadata": {},
   "outputs": [
    {
     "data": {
      "text/plain": [
       "8"
      ]
     },
     "execution_count": 17,
     "metadata": {},
     "output_type": "execute_result"
    }
   ],
   "source": [
    "ls=[1,2,3,4,5,6,7,8,9]\n",
    "arr4=np.random.choice(ls)\n",
    "arr4"
   ]
  },
  {
   "cell_type": "code",
   "execution_count": 13,
   "id": "640687cc-0fe2-4800-98c5-91257c963f1c",
   "metadata": {},
   "outputs": [],
   "source": [
    "arr4=np.random.choice(ls,5)"
   ]
  },
  {
   "cell_type": "code",
   "execution_count": 14,
   "id": "f3463aeb-cefc-4856-b003-fdcc273e103f",
   "metadata": {},
   "outputs": [
    {
     "data": {
      "text/plain": [
       "array([3, 5, 1, 2, 2])"
      ]
     },
     "execution_count": 14,
     "metadata": {},
     "output_type": "execute_result"
    }
   ],
   "source": [
    "arr4"
   ]
  },
  {
   "cell_type": "code",
   "execution_count": 18,
   "id": "0ffdf281-2c95-48c2-b48a-d78f365bd503",
   "metadata": {},
   "outputs": [
    {
     "ename": "ValueError",
     "evalue": "cannot reshape array of size 1 into shape (3,2)",
     "output_type": "error",
     "traceback": [
      "\u001b[1;31m---------------------------------------------------------------------------\u001b[0m",
      "\u001b[1;31mValueError\u001b[0m                                Traceback (most recent call last)",
      "Cell \u001b[1;32mIn[18], line 1\u001b[0m\n\u001b[1;32m----> 1\u001b[0m arr5\u001b[38;5;241m=\u001b[39m\u001b[43mnp\u001b[49m\u001b[38;5;241;43m.\u001b[39;49m\u001b[43mrandom\u001b[49m\u001b[38;5;241;43m.\u001b[39;49m\u001b[43mchoice\u001b[49m\u001b[43m(\u001b[49m\u001b[43mls\u001b[49m\u001b[43m)\u001b[49m\u001b[38;5;241;43m.\u001b[39;49m\u001b[43mreshape\u001b[49m\u001b[43m(\u001b[49m\u001b[38;5;241;43m3\u001b[39;49m\u001b[43m,\u001b[49m\u001b[38;5;241;43m2\u001b[39;49m\u001b[43m)\u001b[49m\n",
      "\u001b[1;31mValueError\u001b[0m: cannot reshape array of size 1 into shape (3,2)"
     ]
    }
   ],
   "source": [
    "arr5=np.random.choice(ls).reshape(3,2)"
   ]
  },
  {
   "cell_type": "code",
   "execution_count": 19,
   "id": "7ba57afe-2377-4696-ba32-fea9ce64d5f5",
   "metadata": {},
   "outputs": [],
   "source": [
    "arr6=np.random.choice(range(10),6).reshape(3,2)"
   ]
  },
  {
   "cell_type": "code",
   "execution_count": 20,
   "id": "e36a46d4-de5f-4ea7-b718-97d6da8e1604",
   "metadata": {},
   "outputs": [
    {
     "data": {
      "text/plain": [
       "array([[1, 5],\n",
       "       [3, 2],\n",
       "       [8, 6]])"
      ]
     },
     "execution_count": 20,
     "metadata": {},
     "output_type": "execute_result"
    }
   ],
   "source": [
    "arr6"
   ]
  },
  {
   "cell_type": "code",
   "execution_count": 21,
   "id": "1a9bc2ca-c5ed-48a0-b2d3-3cd0b76e73a5",
   "metadata": {},
   "outputs": [],
   "source": [
    "arr7=np.zeros((3,2))"
   ]
  },
  {
   "cell_type": "code",
   "execution_count": 22,
   "id": "a9f318b0-eb13-4c6d-a17c-4ede2be2cc0e",
   "metadata": {},
   "outputs": [
    {
     "data": {
      "text/plain": [
       "array([[0., 0.],\n",
       "       [0., 0.],\n",
       "       [0., 0.]])"
      ]
     },
     "execution_count": 22,
     "metadata": {},
     "output_type": "execute_result"
    }
   ],
   "source": [
    "arr7"
   ]
  },
  {
   "cell_type": "code",
   "execution_count": 23,
   "id": "087938a1-261e-4794-b6f4-c7a08757c0da",
   "metadata": {},
   "outputs": [],
   "source": [
    "arr7=np.ones((3,2))"
   ]
  },
  {
   "cell_type": "code",
   "execution_count": 24,
   "id": "55f793ed-0cc7-4e1a-9a59-618e451fd342",
   "metadata": {},
   "outputs": [
    {
     "data": {
      "text/plain": [
       "array([[1., 1.],\n",
       "       [1., 1.],\n",
       "       [1., 1.]])"
      ]
     },
     "execution_count": 24,
     "metadata": {},
     "output_type": "execute_result"
    }
   ],
   "source": [
    "arr7"
   ]
  },
  {
   "cell_type": "code",
   "execution_count": 25,
   "id": "e1b81f40-d6ec-48d9-90bd-ed14ce5b02b2",
   "metadata": {},
   "outputs": [],
   "source": [
    "arr8=np.random.choice(range(10),6).reshape(3,2)\n",
    "arr9=np.random.choice(range(10),6).reshape(3,2)"
   ]
  },
  {
   "cell_type": "code",
   "execution_count": 26,
   "id": "82f606c3-8a37-4dbd-acf2-d839473ae988",
   "metadata": {},
   "outputs": [
    {
     "data": {
      "text/plain": [
       "array([[2, 1],\n",
       "       [4, 4],\n",
       "       [6, 0]])"
      ]
     },
     "execution_count": 26,
     "metadata": {},
     "output_type": "execute_result"
    }
   ],
   "source": [
    "arr8\n",
    "arr9"
   ]
  },
  {
   "cell_type": "code",
   "execution_count": 27,
   "id": "a0506d74-8471-46cb-98a7-5b43eadb2c97",
   "metadata": {},
   "outputs": [
    {
     "data": {
      "text/plain": [
       "array([[9, 3],\n",
       "       [1, 0],\n",
       "       [1, 4]])"
      ]
     },
     "execution_count": 27,
     "metadata": {},
     "output_type": "execute_result"
    }
   ],
   "source": [
    "arr8"
   ]
  },
  {
   "cell_type": "code",
   "execution_count": 31,
   "id": "8c03079a-7cd4-46e9-a7c1-f896ca1394a4",
   "metadata": {},
   "outputs": [],
   "source": [
    "arr10=np.concatenate((arr8,arr9),axis=1)"
   ]
  },
  {
   "cell_type": "code",
   "execution_count": 32,
   "id": "0a9a41cf-6761-4cd2-b2e8-a890df3b44de",
   "metadata": {},
   "outputs": [
    {
     "data": {
      "text/plain": [
       "array([[9, 3, 2, 1],\n",
       "       [1, 0, 4, 4],\n",
       "       [1, 4, 6, 0]])"
      ]
     },
     "execution_count": 32,
     "metadata": {},
     "output_type": "execute_result"
    }
   ],
   "source": [
    "arr10"
   ]
  },
  {
   "cell_type": "code",
   "execution_count": 36,
   "id": "cf007d16-ace9-4876-8d80-ec75dafd5b45",
   "metadata": {},
   "outputs": [
    {
     "data": {
      "text/plain": [
       "array([[[9, 3],\n",
       "        [2, 1]],\n",
       "\n",
       "       [[1, 0],\n",
       "        [4, 4]],\n",
       "\n",
       "       [[1, 4],\n",
       "        [6, 0]]])"
      ]
     },
     "execution_count": 36,
     "metadata": {},
     "output_type": "execute_result"
    }
   ],
   "source": [
    "arr11=np.stack((arr8,arr9),axis=1)\n",
    "arr11"
   ]
  },
  {
   "cell_type": "code",
   "execution_count": 38,
   "id": "2d6fec83-d0cc-4f42-b511-dbbd4739bb7c",
   "metadata": {},
   "outputs": [
    {
     "data": {
      "text/plain": [
       "array([[9, 3],\n",
       "       [1, 0],\n",
       "       [1, 4],\n",
       "       [2, 1],\n",
       "       [4, 4],\n",
       "       [6, 0]])"
      ]
     },
     "execution_count": 38,
     "metadata": {},
     "output_type": "execute_result"
    }
   ],
   "source": [
    "arr12=np.vstack((arr8,arr9))\n",
    "arr12"
   ]
  },
  {
   "cell_type": "code",
   "execution_count": 39,
   "id": "a74b673f-d711-4c9c-b28b-829821f9f720",
   "metadata": {},
   "outputs": [],
   "source": [
    "arr13=np.hstack((arr8,arr9))"
   ]
  },
  {
   "cell_type": "code",
   "execution_count": 40,
   "id": "3b5c108e-d8c3-48c9-aefe-109e4690bf68",
   "metadata": {},
   "outputs": [
    {
     "data": {
      "text/plain": [
       "array([[9, 3, 2, 1],\n",
       "       [1, 0, 4, 4],\n",
       "       [1, 4, 6, 0]])"
      ]
     },
     "execution_count": 40,
     "metadata": {},
     "output_type": "execute_result"
    }
   ],
   "source": [
    "arr13"
   ]
  },
  {
   "cell_type": "code",
   "execution_count": 41,
   "id": "81225c53-b7d4-4017-a709-729a5ab913ca",
   "metadata": {},
   "outputs": [],
   "source": [
    "arr14=np.arange(1,24)"
   ]
  },
  {
   "cell_type": "code",
   "execution_count": 42,
   "id": "6394d556-1f30-4a4a-98c2-5f5eaca4bb36",
   "metadata": {},
   "outputs": [
    {
     "data": {
      "text/plain": [
       "array([ 1,  2,  3,  4,  5,  6,  7,  8,  9, 10, 11, 12, 13, 14, 15, 16, 17,\n",
       "       18, 19, 20, 21, 22, 23])"
      ]
     },
     "execution_count": 42,
     "metadata": {},
     "output_type": "execute_result"
    }
   ],
   "source": [
    "arr14"
   ]
  },
  {
   "cell_type": "code",
   "execution_count": 43,
   "id": "00160952-e784-4aac-93cf-b5028dd4f363",
   "metadata": {},
   "outputs": [
    {
     "data": {
      "text/plain": [
       "array([[ 1,  2,  3,  4,  5,  6],\n",
       "       [ 7,  8,  9, 10, 11, 12],\n",
       "       [13, 14, 15, 16, 17, 18],\n",
       "       [19, 20, 21, 22, 23, 24],\n",
       "       [25, 26, 27, 28, 29, 30],\n",
       "       [31, 32, 33, 34, 35, 36]])"
      ]
     },
     "execution_count": 43,
     "metadata": {},
     "output_type": "execute_result"
    }
   ],
   "source": [
    "arr15=np.arange(1,37).reshape(6,6)\n",
    "arr15"
   ]
  },
  {
   "cell_type": "code",
   "execution_count": 45,
   "id": "4f5c15b6-8070-4be8-8a91-99bb020beced",
   "metadata": {},
   "outputs": [
    {
     "data": {
      "text/plain": [
       "array([[15, 16, 17],\n",
       "       [21, 22, 23],\n",
       "       [27, 28, 29]])"
      ]
     },
     "execution_count": 45,
     "metadata": {},
     "output_type": "execute_result"
    }
   ],
   "source": [
    "arr15[2:5,2:5]"
   ]
  },
  {
   "cell_type": "code",
   "execution_count": 63,
   "id": "06bec330-a620-4fca-b818-6e27cb822d83",
   "metadata": {},
   "outputs": [
    {
     "data": {
      "text/plain": [
       "array([[ 1,  2,  3],\n",
       "       [13, 14, 15],\n",
       "       [25, 26, 27]])"
      ]
     },
     "execution_count": 63,
     "metadata": {},
     "output_type": "execute_result"
    }
   ],
   "source": [
    "arr15[0::2,0:3]"
   ]
  },
  {
   "cell_type": "code",
   "execution_count": 70,
   "id": "71276bfd-0d06-4855-b6cc-13f82b530f93",
   "metadata": {},
   "outputs": [
    {
     "data": {
      "text/plain": [
       "array([[ 8,  9, 10],\n",
       "       [14, 15, 16],\n",
       "       [32, 33, 34]])"
      ]
     },
     "execution_count": 70,
     "metadata": {},
     "output_type": "execute_result"
    }
   ],
   "source": [
    "arr15[[1,2,5],1:4]"
   ]
  },
  {
   "cell_type": "code",
   "execution_count": 71,
   "id": "a98f6d27-aa10-426e-a14b-9b967f3dd449",
   "metadata": {},
   "outputs": [],
   "source": [
    "arr16=np.arange(1,25).reshape(6,4)"
   ]
  },
  {
   "cell_type": "code",
   "execution_count": 72,
   "id": "a7fccc78-c5f8-491d-a654-842c6df0413a",
   "metadata": {},
   "outputs": [
    {
     "data": {
      "text/plain": [
       "array([[ 1,  2,  3,  4],\n",
       "       [ 5,  6,  7,  8],\n",
       "       [ 9, 10, 11, 12],\n",
       "       [13, 14, 15, 16],\n",
       "       [17, 18, 19, 20],\n",
       "       [21, 22, 23, 24]])"
      ]
     },
     "execution_count": 72,
     "metadata": {},
     "output_type": "execute_result"
    }
   ],
   "source": [
    "arr16"
   ]
  },
  {
   "cell_type": "code",
   "execution_count": 74,
   "id": "014b9670-bf57-45fb-9319-230af5a86216",
   "metadata": {},
   "outputs": [
    {
     "data": {
      "text/plain": [
       "[array([[1, 2, 3, 4]]),\n",
       " array([[ 5,  6,  7,  8],\n",
       "        [ 9, 10, 11, 12],\n",
       "        [13, 14, 15, 16]]),\n",
       " array([[17, 18, 19, 20],\n",
       "        [21, 22, 23, 24]])]"
      ]
     },
     "execution_count": 74,
     "metadata": {},
     "output_type": "execute_result"
    }
   ],
   "source": [
    "np.split(arr16,(1,4))"
   ]
  },
  {
   "cell_type": "code",
   "execution_count": 77,
   "id": "3063964f-07b9-4d63-8d23-d9b13072e68e",
   "metadata": {},
   "outputs": [
    {
     "data": {
      "text/plain": [
       "7"
      ]
     },
     "execution_count": 77,
     "metadata": {},
     "output_type": "execute_result"
    }
   ],
   "source": [
    "arr16[1,2]"
   ]
  },
  {
   "cell_type": "code",
   "execution_count": 84,
   "id": "6d5dbb10-c0c5-46d1-a825-43c79131cfaf",
   "metadata": {},
   "outputs": [
    {
     "data": {
      "text/plain": [
       "array([[ 1,  2,  3,  4],\n",
       "       [ 9, 10, 11, 12],\n",
       "       [13, 14, 15, 16]])"
      ]
     },
     "execution_count": 84,
     "metadata": {},
     "output_type": "execute_result"
    }
   ],
   "source": [
    "arr16[[0,2,3]]"
   ]
  },
  {
   "cell_type": "code",
   "execution_count": 90,
   "id": "09f1fdc5-63aa-48a4-9d8c-dbeaafe37836",
   "metadata": {},
   "outputs": [
    {
     "data": {
      "text/plain": [
       "array([[ 1,  2,  4],\n",
       "       [ 5,  6,  8],\n",
       "       [ 9, 10, 12],\n",
       "       [13, 14, 16],\n",
       "       [17, 18, 20],\n",
       "       [21, 22, 24]])"
      ]
     },
     "execution_count": 90,
     "metadata": {},
     "output_type": "execute_result"
    }
   ],
   "source": [
    "arr16[:,[0,1,3]]"
   ]
  },
  {
   "cell_type": "code",
   "execution_count": 3,
   "id": "965cf267-ca81-43ca-9550-fa7ac2ca5651",
   "metadata": {},
   "outputs": [
    {
     "data": {
      "text/plain": [
       "0"
      ]
     },
     "execution_count": 3,
     "metadata": {},
     "output_type": "execute_result"
    }
   ],
   "source": [
    "import numpy as np\n",
    "arr1=np.random.randint(34)\n",
    "arr1\n"
   ]
  },
  {
   "cell_type": "code",
   "execution_count": 4,
   "id": "01a531de-de9a-4fcb-bfc4-4fa384570e61",
   "metadata": {},
   "outputs": [
    {
     "data": {
      "text/plain": [
       "array([307, 380, 364, 346, 351, 487])"
      ]
     },
     "execution_count": 4,
     "metadata": {},
     "output_type": "execute_result"
    }
   ],
   "source": [
    "arr2=np.random.randint(100,500,6)\n",
    "arr2"
   ]
  },
  {
   "cell_type": "code",
   "execution_count": 6,
   "id": "002bafc3-961c-402d-9e40-ac9c83868306",
   "metadata": {},
   "outputs": [
    {
     "data": {
      "text/plain": [
       "array([6, 2, 4, 1])"
      ]
     },
     "execution_count": 6,
     "metadata": {},
     "output_type": "execute_result"
    }
   ],
   "source": [
    "ls=[1,2,3,4,5,6]\n",
    "arr3=np.random.choice(ls,4)\n",
    "arr3"
   ]
  },
  {
   "cell_type": "code",
   "execution_count": 11,
   "id": "a0d32beb-1eb3-401d-a347-b6f8ffe38d13",
   "metadata": {},
   "outputs": [
    {
     "data": {
      "text/plain": [
       "array([[0, 7],\n",
       "       [5, 8],\n",
       "       [8, 6]])"
      ]
     },
     "execution_count": 11,
     "metadata": {},
     "output_type": "execute_result"
    }
   ],
   "source": [
    "arr4=np.random.choice(range(10),6).reshape(3,2)\n",
    "arr4"
   ]
  },
  {
   "cell_type": "code",
   "execution_count": 13,
   "id": "4dd569bc-a2f5-42b2-b922-1b08a9e1aefa",
   "metadata": {},
   "outputs": [
    {
     "data": {
      "text/plain": [
       "8"
      ]
     },
     "execution_count": 13,
     "metadata": {},
     "output_type": "execute_result"
    }
   ],
   "source": [
    "arr4.max()"
   ]
  },
  {
   "cell_type": "code",
   "execution_count": 16,
   "id": "7301bacb-0885-445a-8cea-35771d1132b8",
   "metadata": {},
   "outputs": [
    {
     "data": {
      "text/plain": [
       "array([ 1.,  8., 15.])"
      ]
     },
     "execution_count": 16,
     "metadata": {},
     "output_type": "execute_result"
    }
   ],
   "source": [
    "arr5=np.linspace(1,15,3)\n",
    "arr5"
   ]
  },
  {
   "cell_type": "code",
   "execution_count": 1,
   "id": "a85888d8-4854-4b8c-ba78-8e34ba9350d8",
   "metadata": {},
   "outputs": [
    {
     "ename": "ModuleNotFoundError",
     "evalue": "No module named 'pandas'",
     "output_type": "error",
     "traceback": [
      "\u001b[1;31m---------------------------------------------------------------------------\u001b[0m",
      "\u001b[1;31mModuleNotFoundError\u001b[0m                       Traceback (most recent call last)",
      "Cell \u001b[1;32mIn[1], line 1\u001b[0m\n\u001b[1;32m----> 1\u001b[0m \u001b[38;5;28;01mimport\u001b[39;00m \u001b[38;5;21;01mpandas\u001b[39;00m \u001b[38;5;28;01mas\u001b[39;00m \u001b[38;5;21;01mpd\u001b[39;00m\n",
      "\u001b[1;31mModuleNotFoundError\u001b[0m: No module named 'pandas'"
     ]
    }
   ],
   "source": [
    "import pandas as pd"
   ]
  },
  {
   "cell_type": "code",
   "execution_count": 2,
   "id": "d4ff940b-5b93-47f0-a582-3f2c1cf2fd12",
   "metadata": {},
   "outputs": [],
   "source": [
    "import numpy as np"
   ]
  },
  {
   "cell_type": "code",
   "execution_count": 4,
   "id": "3221b05c-6603-402a-8e9b-58e8a16450bb",
   "metadata": {},
   "outputs": [],
   "source": [
    "a=np.array([[2,5,7],\n",
    "            [1,2,3],\n",
    "            [7,8,2]])"
   ]
  },
  {
   "cell_type": "code",
   "execution_count": 5,
   "id": "c0c7bda2-0c9f-4218-9a8d-7d8fc498b170",
   "metadata": {},
   "outputs": [],
   "source": [
    "b=np.linalg.eigvals(a)"
   ]
  },
  {
   "cell_type": "code",
   "execution_count": 6,
   "id": "badffef1-2157-43f6-a4d3-7f85f3419010",
   "metadata": {},
   "outputs": [
    {
     "data": {
      "text/plain": [
       "array([11.72403766, -5.52328145, -0.2007562 ])"
      ]
     },
     "execution_count": 6,
     "metadata": {},
     "output_type": "execute_result"
    }
   ],
   "source": [
    "b"
   ]
  },
  {
   "cell_type": "code",
   "execution_count": 7,
   "id": "ca690d29-0173-4a24-8ee0-175213a3ecb3",
   "metadata": {},
   "outputs": [],
   "source": [
    "a=np.array([[2,5,7],\n",
    "            [1,2,3],\n",
    "            [7,8,2]])"
   ]
  },
  {
   "cell_type": "code",
   "execution_count": 8,
   "id": "aed0325c-aa97-4a1c-a624-b44e94f4d813",
   "metadata": {},
   "outputs": [],
   "source": [
    "b=np.linalg.inv(a)"
   ]
  },
  {
   "cell_type": "code",
   "execution_count": 9,
   "id": "36c48fcc-6080-4144-8ee0-ef3193a80767",
   "metadata": {},
   "outputs": [
    {
     "data": {
      "text/plain": [
       "array([[-1.53846154,  3.53846154,  0.07692308],\n",
       "       [ 1.46153846, -3.46153846,  0.07692308],\n",
       "       [-0.46153846,  1.46153846, -0.07692308]])"
      ]
     },
     "execution_count": 9,
     "metadata": {},
     "output_type": "execute_result"
    }
   ],
   "source": [
    "b"
   ]
  },
  {
   "cell_type": "code",
   "execution_count": 11,
   "id": "b5c80558-cf1f-4c4d-a6ef-1187ffe3293f",
   "metadata": {},
   "outputs": [
    {
     "ename": "AttributeError",
     "evalue": "module 'numpy.linalg' has no attribute 'transpose'",
     "output_type": "error",
     "traceback": [
      "\u001b[1;31m---------------------------------------------------------------------------\u001b[0m",
      "\u001b[1;31mAttributeError\u001b[0m                            Traceback (most recent call last)",
      "Cell \u001b[1;32mIn[11], line 1\u001b[0m\n\u001b[1;32m----> 1\u001b[0m c\u001b[38;5;241m=\u001b[39m\u001b[43mnp\u001b[49m\u001b[38;5;241;43m.\u001b[39;49m\u001b[43mlinalg\u001b[49m\u001b[38;5;241;43m.\u001b[39;49m\u001b[43mtranspose\u001b[49m(a)\n",
      "\u001b[1;31mAttributeError\u001b[0m: module 'numpy.linalg' has no attribute 'transpose'"
     ]
    }
   ],
   "source": [
    "c=np.linalg.transpose(a)"
   ]
  },
  {
   "cell_type": "code",
   "execution_count": 2,
   "id": "0e8118ac-5b61-4476-8cd8-7c0c68d36d65",
   "metadata": {},
   "outputs": [
    {
     "data": {
      "text/plain": [
       "array([1, 2, 3, 4, 5])"
      ]
     },
     "execution_count": 2,
     "metadata": {},
     "output_type": "execute_result"
    }
   ],
   "source": [
    "import numpy as np\n",
    "arr1=np.array([1,2,3,4,5])\n",
    "arr1"
   ]
  },
  {
   "cell_type": "code",
   "execution_count": 3,
   "id": "bba9e12a-72eb-4e0b-9ee5-82a11c83f895",
   "metadata": {},
   "outputs": [
    {
     "data": {
      "text/plain": [
       "1"
      ]
     },
     "execution_count": 3,
     "metadata": {},
     "output_type": "execute_result"
    }
   ],
   "source": [
    "arr1.ndim"
   ]
  },
  {
   "cell_type": "code",
   "execution_count": 4,
   "id": "63e52abb-08fb-4c69-90c7-12e8666defb7",
   "metadata": {},
   "outputs": [
    {
     "data": {
      "text/plain": [
       "(5,)"
      ]
     },
     "execution_count": 4,
     "metadata": {},
     "output_type": "execute_result"
    }
   ],
   "source": [
    "arr1.shape"
   ]
  },
  {
   "cell_type": "code",
   "execution_count": 5,
   "id": "368f08d1-9673-42b9-8570-9dc11c55acc7",
   "metadata": {},
   "outputs": [
    {
     "data": {
      "text/plain": [
       "5"
      ]
     },
     "execution_count": 5,
     "metadata": {},
     "output_type": "execute_result"
    }
   ],
   "source": [
    "arr1.size"
   ]
  },
  {
   "cell_type": "code",
   "execution_count": 6,
   "id": "365fee0f-0546-46ee-9c32-81b6ac24f544",
   "metadata": {},
   "outputs": [
    {
     "data": {
      "text/plain": [
       "dtype('int32')"
      ]
     },
     "execution_count": 6,
     "metadata": {},
     "output_type": "execute_result"
    }
   ],
   "source": [
    "arr1.dtype"
   ]
  },
  {
   "cell_type": "code",
   "execution_count": 7,
   "id": "06490a0c-dc2d-4c5b-80d7-d49464de49a4",
   "metadata": {},
   "outputs": [
    {
     "data": {
      "text/plain": [
       "array([ 6,  7,  8,  9, 10])"
      ]
     },
     "execution_count": 7,
     "metadata": {},
     "output_type": "execute_result"
    }
   ],
   "source": [
    "arr1+5"
   ]
  },
  {
   "cell_type": "code",
   "execution_count": 8,
   "id": "c5d58ddf-58b4-4d5e-8ba7-392c103e8723",
   "metadata": {},
   "outputs": [
    {
     "data": {
      "text/plain": [
       "array([ 5, 10, 15, 20, 25])"
      ]
     },
     "execution_count": 8,
     "metadata": {},
     "output_type": "execute_result"
    }
   ],
   "source": [
    "arr1*5"
   ]
  },
  {
   "cell_type": "code",
   "execution_count": 10,
   "id": "1a5678d5-fc36-4f01-8ca9-1dfb9a82d0f8",
   "metadata": {},
   "outputs": [
    {
     "data": {
      "text/plain": [
       "[[1, 2], [3, 4]]"
      ]
     },
     "execution_count": 10,
     "metadata": {},
     "output_type": "execute_result"
    }
   ],
   "source": [
    "arr1=[[1,2],[3,4]]\n",
    "arr1"
   ]
  },
  {
   "cell_type": "code",
   "execution_count": 11,
   "id": "2de3aaeb-d8d3-45a9-99fd-cb33e5522908",
   "metadata": {},
   "outputs": [
    {
     "data": {
      "text/plain": [
       "[[5, 6], [7, 8]]"
      ]
     },
     "execution_count": 11,
     "metadata": {},
     "output_type": "execute_result"
    }
   ],
   "source": [
    "arr2=[[5,6],[7,8]]\n",
    "arr2"
   ]
  },
  {
   "cell_type": "code",
   "execution_count": 14,
   "id": "f1970e82-3fd4-4357-8f38-58c7a6a9cf9b",
   "metadata": {},
   "outputs": [
    {
     "data": {
      "text/plain": [
       "array([[19, 22],\n",
       "       [43, 50]])"
      ]
     },
     "execution_count": 14,
     "metadata": {},
     "output_type": "execute_result"
    }
   ],
   "source": [
    "np.dot(arr1,arr2)"
   ]
  },
  {
   "cell_type": "code",
   "execution_count": 17,
   "id": "a782217b-2ca0-4d2a-95ea-43e8aeb49b61",
   "metadata": {},
   "outputs": [
    {
     "data": {
      "text/plain": [
       "[[1, 2], [3, 4]]"
      ]
     },
     "execution_count": 17,
     "metadata": {},
     "output_type": "execute_result"
    }
   ],
   "source": [
    "arr1"
   ]
  },
  {
   "cell_type": "code",
   "execution_count": 18,
   "id": "060c671c-573a-43a6-9240-00da72ac6e69",
   "metadata": {},
   "outputs": [
    {
     "data": {
      "text/plain": [
       "[[5, 6], [7, 8]]"
      ]
     },
     "execution_count": 18,
     "metadata": {},
     "output_type": "execute_result"
    }
   ],
   "source": [
    "arr2"
   ]
  },
  {
   "cell_type": "code",
   "execution_count": 22,
   "id": "9e727a83-1b28-402b-9678-bf0a28042399",
   "metadata": {},
   "outputs": [
    {
     "data": {
      "text/plain": [
       "[[1, 2], [3, 4], [5, 6], [7, 8]]"
      ]
     },
     "execution_count": 22,
     "metadata": {},
     "output_type": "execute_result"
    }
   ],
   "source": [
    "arr1+arr2"
   ]
  },
  {
   "cell_type": "code",
   "execution_count": 23,
   "id": "2b5e262e-914d-447a-80c9-5f36099fb31b",
   "metadata": {},
   "outputs": [],
   "source": [
    "arr1=np.random.randint(1,5)"
   ]
  },
  {
   "cell_type": "code",
   "execution_count": 24,
   "id": "181b6e1a-0c18-4d7f-9e62-ebaa9346d38e",
   "metadata": {},
   "outputs": [
    {
     "data": {
      "text/plain": [
       "1"
      ]
     },
     "execution_count": 24,
     "metadata": {},
     "output_type": "execute_result"
    }
   ],
   "source": [
    "arr1"
   ]
  },
  {
   "cell_type": "code",
   "execution_count": 25,
   "id": "45700b4c-2fcb-43b7-ad1e-785616099867",
   "metadata": {},
   "outputs": [],
   "source": [
    "arr1=np.random.choice(range(10),4).reshape(2,2)"
   ]
  },
  {
   "cell_type": "code",
   "execution_count": 26,
   "id": "5a589aa1-68e8-431b-bba4-79457025e8be",
   "metadata": {},
   "outputs": [
    {
     "data": {
      "text/plain": [
       "array([[7, 2],\n",
       "       [6, 8]])"
      ]
     },
     "execution_count": 26,
     "metadata": {},
     "output_type": "execute_result"
    }
   ],
   "source": [
    "arr1"
   ]
  },
  {
   "cell_type": "code",
   "execution_count": 27,
   "id": "167362bf-bfba-4d19-9649-fb49682e1f9c",
   "metadata": {},
   "outputs": [],
   "source": [
    "arr2=np.random.choice(range(10),4).reshape(2,2)"
   ]
  },
  {
   "cell_type": "code",
   "execution_count": 28,
   "id": "36507c06-1fb5-43af-ae18-b2757e9cc9d8",
   "metadata": {},
   "outputs": [
    {
     "data": {
      "text/plain": [
       "array([[7, 7],\n",
       "       [7, 6]])"
      ]
     },
     "execution_count": 28,
     "metadata": {},
     "output_type": "execute_result"
    }
   ],
   "source": [
    "arr2"
   ]
  },
  {
   "cell_type": "code",
   "execution_count": 29,
   "id": "f6a5b8c4-7272-4222-8f38-64e59d87bdd1",
   "metadata": {},
   "outputs": [
    {
     "data": {
      "text/plain": [
       "array([[14,  9],\n",
       "       [13, 14]])"
      ]
     },
     "execution_count": 29,
     "metadata": {},
     "output_type": "execute_result"
    }
   ],
   "source": [
    "arr1+arr2"
   ]
  },
  {
   "cell_type": "code",
   "execution_count": 30,
   "id": "a4251d21-e0a1-4550-91b9-4fd74ed36855",
   "metadata": {},
   "outputs": [
    {
     "data": {
      "text/plain": [
       "array([[ 0, -5],\n",
       "       [-1,  2]])"
      ]
     },
     "execution_count": 30,
     "metadata": {},
     "output_type": "execute_result"
    }
   ],
   "source": [
    "arr1-arr2"
   ]
  },
  {
   "cell_type": "code",
   "execution_count": 31,
   "id": "b10def6f-7ca2-42b8-9e58-74060086528f",
   "metadata": {},
   "outputs": [
    {
     "data": {
      "text/plain": [
       "array([[49, 14],\n",
       "       [42, 48]])"
      ]
     },
     "execution_count": 31,
     "metadata": {},
     "output_type": "execute_result"
    }
   ],
   "source": [
    "arr1*arr2"
   ]
  },
  {
   "cell_type": "code",
   "execution_count": 32,
   "id": "8131f4a8-98e7-4ba9-a013-7af3a970c7f5",
   "metadata": {},
   "outputs": [
    {
     "data": {
      "text/plain": [
       "array([[1.        , 0.28571429],\n",
       "       [0.85714286, 1.33333333]])"
      ]
     },
     "execution_count": 32,
     "metadata": {},
     "output_type": "execute_result"
    }
   ],
   "source": [
    "arr1/arr2"
   ]
  },
  {
   "cell_type": "code",
   "execution_count": 34,
   "id": "85cd0507-1396-4c1a-952d-7779d3c03d99",
   "metadata": {},
   "outputs": [],
   "source": [
    "arr1=np.random.choice(range(10),4).reshape(2,2)"
   ]
  },
  {
   "cell_type": "code",
   "execution_count": 35,
   "id": "d70a2375-b303-416b-9a3f-35b7737c54cf",
   "metadata": {},
   "outputs": [
    {
     "data": {
      "text/plain": [
       "array([[8, 7],\n",
       "       [7, 1]])"
      ]
     },
     "execution_count": 35,
     "metadata": {},
     "output_type": "execute_result"
    }
   ],
   "source": [
    "arr1"
   ]
  },
  {
   "cell_type": "code",
   "execution_count": 36,
   "id": "40a0cddd-a3e9-4de4-be8f-13eac528a5cb",
   "metadata": {},
   "outputs": [],
   "source": [
    "arr2=np.random.choice(range(10),4).reshape(2,2)"
   ]
  },
  {
   "cell_type": "code",
   "execution_count": 37,
   "id": "6c79d529-ee09-4b5a-8b44-cdab1f8c205d",
   "metadata": {},
   "outputs": [
    {
     "data": {
      "text/plain": [
       "array([[7, 9],\n",
       "       [4, 5]])"
      ]
     },
     "execution_count": 37,
     "metadata": {},
     "output_type": "execute_result"
    }
   ],
   "source": [
    "arr2"
   ]
  },
  {
   "cell_type": "code",
   "execution_count": 40,
   "id": "1c77bd1b-dde3-429c-a8c4-12de90ddc897",
   "metadata": {},
   "outputs": [
    {
     "data": {
      "text/plain": [
       "array([[0., 0., 0.],\n",
       "       [0., 0., 0.]])"
      ]
     },
     "execution_count": 40,
     "metadata": {},
     "output_type": "execute_result"
    }
   ],
   "source": [
    "arr3=np.zeros((2,3))\n",
    "arr3"
   ]
  },
  {
   "cell_type": "code",
   "execution_count": 41,
   "id": "3861640f-691d-450b-9c76-ffa71a8c402b",
   "metadata": {},
   "outputs": [],
   "source": [
    "arr4=np.ones((2,3))"
   ]
  },
  {
   "cell_type": "code",
   "execution_count": 42,
   "id": "bee63f83-c3d1-4166-8069-cafc41bf7ea9",
   "metadata": {},
   "outputs": [
    {
     "data": {
      "text/plain": [
       "array([[1., 1., 1.],\n",
       "       [1., 1., 1.]])"
      ]
     },
     "execution_count": 42,
     "metadata": {},
     "output_type": "execute_result"
    }
   ],
   "source": [
    "arr4"
   ]
  },
  {
   "cell_type": "code",
   "execution_count": 49,
   "id": "6d5ae695-0b7a-4f2c-a7e2-82277cf39e36",
   "metadata": {},
   "outputs": [
    {
     "data": {
      "text/plain": [
       "array([[1., 0., 0.],\n",
       "       [0., 1., 0.],\n",
       "       [0., 0., 1.]])"
      ]
     },
     "execution_count": 49,
     "metadata": {},
     "output_type": "execute_result"
    }
   ],
   "source": [
    "arr5=np.eye(3)\n",
    "arr5"
   ]
  },
  {
   "cell_type": "code",
   "execution_count": 50,
   "id": "138bb1db-fe24-476a-8d75-137612c375c0",
   "metadata": {},
   "outputs": [
    {
     "data": {
      "text/plain": [
       "array([[15, 16],\n",
       "       [11,  6]])"
      ]
     },
     "execution_count": 50,
     "metadata": {},
     "output_type": "execute_result"
    }
   ],
   "source": [
    "arr1+arr2"
   ]
  },
  {
   "cell_type": "code",
   "execution_count": 51,
   "id": "ad2717a0-799e-45d8-ad2d-292ce58de0ae",
   "metadata": {},
   "outputs": [
    {
     "data": {
      "text/plain": [
       "array([[ 1, -2],\n",
       "       [ 3, -4]])"
      ]
     },
     "execution_count": 51,
     "metadata": {},
     "output_type": "execute_result"
    }
   ],
   "source": [
    "arr1-arr2"
   ]
  },
  {
   "cell_type": "code",
   "execution_count": 52,
   "id": "e7f67bee-7754-4cac-9d39-a65de7d775be",
   "metadata": {},
   "outputs": [
    {
     "data": {
      "text/plain": [
       "array([[56, 63],\n",
       "       [28,  5]])"
      ]
     },
     "execution_count": 52,
     "metadata": {},
     "output_type": "execute_result"
    }
   ],
   "source": [
    "arr1*arr2"
   ]
  },
  {
   "cell_type": "code",
   "execution_count": 53,
   "id": "0f3d342b-ce66-4e13-bb0f-c461d6ff2b4e",
   "metadata": {},
   "outputs": [
    {
     "data": {
      "text/plain": [
       "array([[ 84, 107],\n",
       "       [ 53,  68]])"
      ]
     },
     "execution_count": 53,
     "metadata": {},
     "output_type": "execute_result"
    }
   ],
   "source": [
    "np.dot(arr1,arr2)"
   ]
  },
  {
   "cell_type": "code",
   "execution_count": 54,
   "id": "9dcb35a7-b196-47a1-867a-d93b53491dcc",
   "metadata": {},
   "outputs": [
    {
     "data": {
      "text/plain": [
       "8"
      ]
     },
     "execution_count": 54,
     "metadata": {},
     "output_type": "execute_result"
    }
   ],
   "source": [
    "arr1.max()"
   ]
  },
  {
   "cell_type": "code",
   "execution_count": 55,
   "id": "ed5b9e52-1760-4e74-b7f9-e8ee42f92a9b",
   "metadata": {},
   "outputs": [
    {
     "data": {
      "text/plain": [
       "1"
      ]
     },
     "execution_count": 55,
     "metadata": {},
     "output_type": "execute_result"
    }
   ],
   "source": [
    "arr1.min()"
   ]
  },
  {
   "cell_type": "code",
   "execution_count": 56,
   "id": "c5dec32c-ea2c-4a40-b10c-4b1820ca4acc",
   "metadata": {},
   "outputs": [
    {
     "data": {
      "text/plain": [
       "5.75"
      ]
     },
     "execution_count": 56,
     "metadata": {},
     "output_type": "execute_result"
    }
   ],
   "source": [
    "arr1.mean()"
   ]
  },
  {
   "cell_type": "code",
   "execution_count": 57,
   "id": "dd20795b-01f5-4943-91ed-cc0bfca350b5",
   "metadata": {},
   "outputs": [
    {
     "data": {
      "text/plain": [
       "23"
      ]
     },
     "execution_count": 57,
     "metadata": {},
     "output_type": "execute_result"
    }
   ],
   "source": [
    "arr1.sum()"
   ]
  },
  {
   "cell_type": "code",
   "execution_count": 58,
   "id": "ae07a2e0-3bce-43df-b792-c88ce3d2c1d3",
   "metadata": {},
   "outputs": [
    {
     "data": {
      "text/plain": [
       "2.7726341266023544"
      ]
     },
     "execution_count": 58,
     "metadata": {},
     "output_type": "execute_result"
    }
   ],
   "source": [
    "arr1.std()"
   ]
  },
  {
   "cell_type": "code",
   "execution_count": 60,
   "id": "d6bab93e-6b4b-4705-9987-af69746711e5",
   "metadata": {},
   "outputs": [
    {
     "data": {
      "text/plain": [
       "array([[8, 7],\n",
       "       [7, 1]])"
      ]
     },
     "execution_count": 60,
     "metadata": {},
     "output_type": "execute_result"
    }
   ],
   "source": [
    "arr1"
   ]
  },
  {
   "cell_type": "code",
   "execution_count": 61,
   "id": "f45d5165-b285-42ab-8a50-1da2a45274af",
   "metadata": {},
   "outputs": [
    {
     "data": {
      "text/plain": [
       "array([[7, 9],\n",
       "       [4, 5]])"
      ]
     },
     "execution_count": 61,
     "metadata": {},
     "output_type": "execute_result"
    }
   ],
   "source": [
    "arr2"
   ]
  },
  {
   "cell_type": "code",
   "execution_count": 62,
   "id": "dd83a35e-e609-464a-8a4d-8ffedf059d17",
   "metadata": {},
   "outputs": [
    {
     "data": {
      "text/plain": [
       "array([[8, 7],\n",
       "       [7, 1],\n",
       "       [7, 9],\n",
       "       [4, 5]])"
      ]
     },
     "execution_count": 62,
     "metadata": {},
     "output_type": "execute_result"
    }
   ],
   "source": [
    "np.concatenate((arr1,arr2))"
   ]
  },
  {
   "cell_type": "code",
   "execution_count": 63,
   "id": "f93a89ad-8d11-48bb-9fb7-84b865a2e331",
   "metadata": {},
   "outputs": [
    {
     "data": {
      "text/plain": [
       "array([[[8, 7],\n",
       "        [7, 1]],\n",
       "\n",
       "       [[7, 9],\n",
       "        [4, 5]]])"
      ]
     },
     "execution_count": 63,
     "metadata": {},
     "output_type": "execute_result"
    }
   ],
   "source": [
    "np.stack((arr1,arr2))"
   ]
  },
  {
   "cell_type": "code",
   "execution_count": 64,
   "id": "535bb25e-d27f-408b-8160-9b4f1f641d02",
   "metadata": {},
   "outputs": [
    {
     "data": {
      "text/plain": [
       "array([[8, 7, 7, 9],\n",
       "       [7, 1, 4, 5]])"
      ]
     },
     "execution_count": 64,
     "metadata": {},
     "output_type": "execute_result"
    }
   ],
   "source": [
    "np.hstack((arr1,arr2))"
   ]
  },
  {
   "cell_type": "code",
   "execution_count": 65,
   "id": "90d908a5-49f8-48c3-b497-82cb642a6f35",
   "metadata": {},
   "outputs": [
    {
     "data": {
      "text/plain": [
       "array([[8, 7],\n",
       "       [7, 1],\n",
       "       [7, 9],\n",
       "       [4, 5]])"
      ]
     },
     "execution_count": 65,
     "metadata": {},
     "output_type": "execute_result"
    }
   ],
   "source": [
    "np.vstack((arr1,arr2))"
   ]
  },
  {
   "cell_type": "code",
   "execution_count": 69,
   "id": "426f87d7-bb9d-43b5-ae8d-73e44df41e3c",
   "metadata": {},
   "outputs": [
    {
     "data": {
      "text/plain": [
       "[array([[8, 7]]), array([[7, 1]]), array([], shape=(0, 2), dtype=int32)]"
      ]
     },
     "execution_count": 69,
     "metadata": {},
     "output_type": "execute_result"
    }
   ],
   "source": [
    "np.split(arr1,(1,3))"
   ]
  },
  {
   "cell_type": "code",
   "execution_count": 71,
   "id": "1934f22b-8a3b-480a-b4bb-7f0f248096d8",
   "metadata": {},
   "outputs": [
    {
     "data": {
      "text/plain": [
       "array([ 1.  ,  3.25,  5.5 ,  7.75, 10.  ])"
      ]
     },
     "execution_count": 71,
     "metadata": {},
     "output_type": "execute_result"
    }
   ],
   "source": [
    "np.linspace(1,10,5)"
   ]
  },
  {
   "cell_type": "code",
   "execution_count": 1,
   "id": "69799a1b-b4b5-45b6-82f7-803adbeaeeab",
   "metadata": {},
   "outputs": [],
   "source": [
    "import numpy as np"
   ]
  },
  {
   "cell_type": "code",
   "execution_count": 2,
   "id": "eded06ab-6eac-4f15-b046-9bda38a9539f",
   "metadata": {},
   "outputs": [
    {
     "data": {
      "text/plain": [
       "1"
      ]
     },
     "execution_count": 2,
     "metadata": {},
     "output_type": "execute_result"
    }
   ],
   "source": [
    "arr1=np.array([1,2,3,4,5,6])\n",
    "arr1\n",
    "arr1.ndim"
   ]
  },
  {
   "cell_type": "code",
   "execution_count": 3,
   "id": "195e6e24-ea38-49ef-9bf5-0eec150c7fd0",
   "metadata": {},
   "outputs": [
    {
     "data": {
      "text/plain": [
       "(6,)"
      ]
     },
     "execution_count": 3,
     "metadata": {},
     "output_type": "execute_result"
    }
   ],
   "source": [
    "arr1.shape"
   ]
  },
  {
   "cell_type": "code",
   "execution_count": 4,
   "id": "88750cad-2902-4984-8853-7f44065ac43a",
   "metadata": {},
   "outputs": [
    {
     "data": {
      "text/plain": [
       "6"
      ]
     },
     "execution_count": 4,
     "metadata": {},
     "output_type": "execute_result"
    }
   ],
   "source": [
    "arr1.size"
   ]
  },
  {
   "cell_type": "code",
   "execution_count": 5,
   "id": "07a8d227-056b-4f63-b1d2-08b2204a71f7",
   "metadata": {},
   "outputs": [
    {
     "data": {
      "text/plain": [
       "dtype('int32')"
      ]
     },
     "execution_count": 5,
     "metadata": {},
     "output_type": "execute_result"
    }
   ],
   "source": [
    "arr1.dtype"
   ]
  },
  {
   "cell_type": "code",
   "execution_count": 7,
   "id": "16cbda5b-2834-47bf-9d89-e0055b2b72f4",
   "metadata": {},
   "outputs": [
    {
     "data": {
      "text/plain": [
       "array([[0., 0., 0.],\n",
       "       [0., 0., 0.]])"
      ]
     },
     "execution_count": 7,
     "metadata": {},
     "output_type": "execute_result"
    }
   ],
   "source": [
    "arr2=np.zeros((2,3))\n",
    "arr2"
   ]
  },
  {
   "cell_type": "code",
   "execution_count": 8,
   "id": "7b8cba8e-c047-421f-b74e-1f7724a075a4",
   "metadata": {},
   "outputs": [],
   "source": [
    "arr3=np.ones((3,2))"
   ]
  },
  {
   "cell_type": "code",
   "execution_count": 9,
   "id": "1d2a0982-3a1a-4de2-9d9a-c3a0dd581a4a",
   "metadata": {},
   "outputs": [
    {
     "data": {
      "text/plain": [
       "array([[1., 1.],\n",
       "       [1., 1.],\n",
       "       [1., 1.]])"
      ]
     },
     "execution_count": 9,
     "metadata": {},
     "output_type": "execute_result"
    }
   ],
   "source": [
    "arr3"
   ]
  },
  {
   "cell_type": "code",
   "execution_count": 10,
   "id": "f98376a2-5397-4cee-ae9d-d3c5c5aa56c4",
   "metadata": {},
   "outputs": [],
   "source": [
    "arr4=np.eye(3)"
   ]
  },
  {
   "cell_type": "code",
   "execution_count": 11,
   "id": "52b57627-36d5-4220-919b-bab5808cb7aa",
   "metadata": {},
   "outputs": [
    {
     "data": {
      "text/plain": [
       "array([[1., 0., 0.],\n",
       "       [0., 1., 0.],\n",
       "       [0., 0., 1.]])"
      ]
     },
     "execution_count": 11,
     "metadata": {},
     "output_type": "execute_result"
    }
   ],
   "source": [
    "arr4"
   ]
  },
  {
   "cell_type": "code",
   "execution_count": 14,
   "id": "39b7df34-e890-43a9-98ee-1eacf878e5bf",
   "metadata": {},
   "outputs": [
    {
     "data": {
      "text/plain": [
       "array([0.83396024, 0.68562336, 0.70544757, 0.19748916, 0.77638029,\n",
       "       0.74769003, 0.77471089, 0.64104727, 0.28693494, 0.11151923])"
      ]
     },
     "execution_count": 14,
     "metadata": {},
     "output_type": "execute_result"
    }
   ],
   "source": [
    "arr5=np.random.rand(10)\n",
    "arr5"
   ]
  },
  {
   "cell_type": "code",
   "execution_count": 17,
   "id": "aeb711ea-0ade-4767-835e-aef7e4a3b96e",
   "metadata": {},
   "outputs": [
    {
     "data": {
      "text/plain": [
       "31"
      ]
     },
     "execution_count": 17,
     "metadata": {},
     "output_type": "execute_result"
    }
   ],
   "source": [
    "arr6=np.random.randint(34)\n",
    "arr6"
   ]
  },
  {
   "cell_type": "code",
   "execution_count": 19,
   "id": "8d4a1cc7-9b05-4b76-81a7-f8deee67a131",
   "metadata": {},
   "outputs": [
    {
     "data": {
      "text/plain": [
       "array([220, 111, 344, 304, 145, 206, 265])"
      ]
     },
     "execution_count": 19,
     "metadata": {},
     "output_type": "execute_result"
    }
   ],
   "source": [
    "arr7=np.random.randint(100,500,7)\n",
    "arr7"
   ]
  },
  {
   "cell_type": "code",
   "execution_count": 21,
   "id": "ad1ddfe2-62fc-42c8-87ca-d3d7af5f4844",
   "metadata": {},
   "outputs": [
    {
     "data": {
      "text/plain": [
       "array([1, 1, 6, 5])"
      ]
     },
     "execution_count": 21,
     "metadata": {},
     "output_type": "execute_result"
    }
   ],
   "source": [
    "ls=[1,2,3,4,5,6]\n",
    "arr8=np.random.choice(ls,4)\n",
    "arr8"
   ]
  },
  {
   "cell_type": "code",
   "execution_count": 23,
   "id": "9c9e48d7-c0ca-4e68-975c-97211bfc39ed",
   "metadata": {},
   "outputs": [],
   "source": [
    "arr1=np.array([[1,2],[3,4]])\n"
   ]
  },
  {
   "cell_type": "code",
   "execution_count": 24,
   "id": "9fd68835-b210-4505-8562-a3d996f18f0c",
   "metadata": {},
   "outputs": [
    {
     "data": {
      "text/plain": [
       "array([[1, 2],\n",
       "       [3, 4]])"
      ]
     },
     "execution_count": 24,
     "metadata": {},
     "output_type": "execute_result"
    }
   ],
   "source": [
    "arr1"
   ]
  },
  {
   "cell_type": "code",
   "execution_count": 25,
   "id": "3557b52d-7f4f-4f1a-9821-654774c47213",
   "metadata": {},
   "outputs": [
    {
     "data": {
      "text/plain": [
       "array([[5, 6],\n",
       "       [7, 8]])"
      ]
     },
     "execution_count": 25,
     "metadata": {},
     "output_type": "execute_result"
    }
   ],
   "source": [
    "arr2=np.array([[5,6],[7,8]])\n",
    "arr2"
   ]
  },
  {
   "cell_type": "code",
   "execution_count": 26,
   "id": "404f65b5-498b-4b9f-8265-aba8f94a4e7d",
   "metadata": {},
   "outputs": [
    {
     "data": {
      "text/plain": [
       "array([[4, 5],\n",
       "       [6, 7]])"
      ]
     },
     "execution_count": 26,
     "metadata": {},
     "output_type": "execute_result"
    }
   ],
   "source": [
    "arr1+3"
   ]
  },
  {
   "cell_type": "code",
   "execution_count": 27,
   "id": "a9eaef74-a56d-418d-b91f-ba4b5fc70aa6",
   "metadata": {},
   "outputs": [
    {
     "data": {
      "text/plain": [
       "array([[-2, -1],\n",
       "       [ 0,  1]])"
      ]
     },
     "execution_count": 27,
     "metadata": {},
     "output_type": "execute_result"
    }
   ],
   "source": [
    "arr1-3"
   ]
  },
  {
   "cell_type": "code",
   "execution_count": 28,
   "id": "83e6ef4c-80fb-4e76-9cd1-3a5d34d76d7d",
   "metadata": {},
   "outputs": [
    {
     "data": {
      "text/plain": [
       "array([[ 5, 10],\n",
       "       [15, 20]])"
      ]
     },
     "execution_count": 28,
     "metadata": {},
     "output_type": "execute_result"
    }
   ],
   "source": [
    "arr1*5"
   ]
  },
  {
   "cell_type": "code",
   "execution_count": 30,
   "id": "647e128c-4591-4d13-adee-f1847d33dee1",
   "metadata": {},
   "outputs": [
    {
     "data": {
      "text/plain": [
       "array([[19, 22],\n",
       "       [43, 50]])"
      ]
     },
     "execution_count": 30,
     "metadata": {},
     "output_type": "execute_result"
    }
   ],
   "source": [
    "arr9=np.dot(arr1,arr2)\n",
    "arr9"
   ]
  },
  {
   "cell_type": "code",
   "execution_count": 31,
   "id": "3ba50759-8b94-4fe5-90bc-17aa56dd06bd",
   "metadata": {},
   "outputs": [
    {
     "data": {
      "text/plain": [
       "array([[-4, -4],\n",
       "       [-4, -4]])"
      ]
     },
     "execution_count": 31,
     "metadata": {},
     "output_type": "execute_result"
    }
   ],
   "source": [
    "arr1-arr2"
   ]
  },
  {
   "cell_type": "code",
   "execution_count": 32,
   "id": "fccff4d6-a13a-4ea9-b9a9-560b22e468fb",
   "metadata": {},
   "outputs": [
    {
     "data": {
      "text/plain": [
       "array([[ 6,  8],\n",
       "       [10, 12]])"
      ]
     },
     "execution_count": 32,
     "metadata": {},
     "output_type": "execute_result"
    }
   ],
   "source": [
    "arr1+arr2"
   ]
  },
  {
   "cell_type": "code",
   "execution_count": 33,
   "id": "b7fe030c-e6f5-474c-a3a1-07767dcf65c7",
   "metadata": {},
   "outputs": [
    {
     "data": {
      "text/plain": [
       "array([[ 5, 12],\n",
       "       [21, 32]])"
      ]
     },
     "execution_count": 33,
     "metadata": {},
     "output_type": "execute_result"
    }
   ],
   "source": [
    "arr1*arr2"
   ]
  },
  {
   "cell_type": "code",
   "execution_count": 34,
   "id": "b155cd11-e79b-4cee-aeba-4355286fb01e",
   "metadata": {},
   "outputs": [
    {
     "data": {
      "text/plain": [
       "array([[0.2       , 0.33333333],\n",
       "       [0.42857143, 0.5       ]])"
      ]
     },
     "execution_count": 34,
     "metadata": {},
     "output_type": "execute_result"
    }
   ],
   "source": [
    "arr1/arr2"
   ]
  },
  {
   "cell_type": "code",
   "execution_count": 36,
   "id": "f1f11a63-f09c-4903-903b-2080346b6d31",
   "metadata": {},
   "outputs": [
    {
     "data": {
      "text/plain": [
       "array([ 1,  2,  3,  4,  5,  6,  7,  8,  9, 10, 11, 12, 13, 14])"
      ]
     },
     "execution_count": 36,
     "metadata": {},
     "output_type": "execute_result"
    }
   ],
   "source": [
    "arr10=np.arange(1,15)\n",
    "arr10"
   ]
  },
  {
   "cell_type": "code",
   "execution_count": 38,
   "id": "77218426-7d6b-4528-bdcb-48179352345f",
   "metadata": {},
   "outputs": [
    {
     "data": {
      "text/plain": [
       "array([ 1.,  8., 15.])"
      ]
     },
     "execution_count": 38,
     "metadata": {},
     "output_type": "execute_result"
    }
   ],
   "source": [
    "arr11=np.linspace(1,15,3)\n",
    "arr11"
   ]
  },
  {
   "cell_type": "code",
   "execution_count": 41,
   "id": "695f3f29-f287-4b77-a16a-5cb7dc2a8b70",
   "metadata": {},
   "outputs": [
    {
     "data": {
      "text/plain": [
       "array([[1, 2],\n",
       "       [3, 4],\n",
       "       [5, 6],\n",
       "       [7, 8]])"
      ]
     },
     "execution_count": 41,
     "metadata": {},
     "output_type": "execute_result"
    }
   ],
   "source": [
    "arr12=np.concatenate((arr1,arr2))\n",
    "arr12"
   ]
  },
  {
   "cell_type": "code",
   "execution_count": 44,
   "id": "c6b5751e-021b-4a33-b220-d5dea4ae0dee",
   "metadata": {},
   "outputs": [
    {
     "data": {
      "text/plain": [
       "array([[[1, 2],\n",
       "        [3, 4]],\n",
       "\n",
       "       [[5, 6],\n",
       "        [7, 8]]])"
      ]
     },
     "execution_count": 44,
     "metadata": {},
     "output_type": "execute_result"
    }
   ],
   "source": [
    "arr13=np.stack((arr1,arr2))\n",
    "arr13"
   ]
  },
  {
   "cell_type": "code",
   "execution_count": 47,
   "id": "aaa8ade2-7a63-475b-b9c1-953595781a26",
   "metadata": {},
   "outputs": [
    {
     "data": {
      "text/plain": [
       "array([[1, 2],\n",
       "       [3, 4],\n",
       "       [5, 6],\n",
       "       [7, 8]])"
      ]
     },
     "execution_count": 47,
     "metadata": {},
     "output_type": "execute_result"
    }
   ],
   "source": [
    "arr14=np.vstack((arr1,arr2))\n",
    "arr14"
   ]
  },
  {
   "cell_type": "code",
   "execution_count": 49,
   "id": "6eb13b56-747c-4e05-b982-7ebf4d92df4d",
   "metadata": {},
   "outputs": [
    {
     "data": {
      "text/plain": [
       "array([[1, 2, 5, 6],\n",
       "       [3, 4, 7, 8]])"
      ]
     },
     "execution_count": 49,
     "metadata": {},
     "output_type": "execute_result"
    }
   ],
   "source": [
    "arr14=np.hstack((arr1,arr2))\n",
    "arr14"
   ]
  },
  {
   "cell_type": "code",
   "execution_count": 51,
   "id": "318a1f14-f079-48d7-a921-3189b589ae96",
   "metadata": {},
   "outputs": [
    {
     "data": {
      "text/plain": [
       "[array([[1, 2]]), array([[3, 4]]), array([], shape=(0, 2), dtype=int32)]"
      ]
     },
     "execution_count": 51,
     "metadata": {},
     "output_type": "execute_result"
    }
   ],
   "source": [
    "arr15=np.split(arr1,(1,2))\n",
    "arr15"
   ]
  },
  {
   "cell_type": "code",
   "execution_count": 52,
   "id": "122ce6a3-2d3c-40a1-b2ea-b466a0072c17",
   "metadata": {},
   "outputs": [
    {
     "data": {
      "text/plain": [
       "1"
      ]
     },
     "execution_count": 52,
     "metadata": {},
     "output_type": "execute_result"
    }
   ],
   "source": [
    "arr1.min()"
   ]
  },
  {
   "cell_type": "code",
   "execution_count": 53,
   "id": "5e757ca6-9cde-431d-b9c7-b4e3e1763d34",
   "metadata": {},
   "outputs": [
    {
     "data": {
      "text/plain": [
       "4"
      ]
     },
     "execution_count": 53,
     "metadata": {},
     "output_type": "execute_result"
    }
   ],
   "source": [
    "arr1.max()"
   ]
  },
  {
   "cell_type": "code",
   "execution_count": 54,
   "id": "c01d092a-b165-414b-82d8-f24104b9a633",
   "metadata": {},
   "outputs": [
    {
     "data": {
      "text/plain": [
       "10"
      ]
     },
     "execution_count": 54,
     "metadata": {},
     "output_type": "execute_result"
    }
   ],
   "source": [
    "arr1.sum()"
   ]
  },
  {
   "cell_type": "code",
   "execution_count": 55,
   "id": "bcd0912c-105f-422e-b201-c47b68dac6bc",
   "metadata": {},
   "outputs": [
    {
     "data": {
      "text/plain": [
       "2.5"
      ]
     },
     "execution_count": 55,
     "metadata": {},
     "output_type": "execute_result"
    }
   ],
   "source": [
    "arr1.mean()"
   ]
  },
  {
   "cell_type": "code",
   "execution_count": 56,
   "id": "e97bc3d0-0c74-4072-bf5e-11d5948cadcf",
   "metadata": {},
   "outputs": [
    {
     "data": {
      "text/plain": [
       "1.118033988749895"
      ]
     },
     "execution_count": 56,
     "metadata": {},
     "output_type": "execute_result"
    }
   ],
   "source": [
    "arr1.std()"
   ]
  },
  {
   "cell_type": "code",
   "execution_count": null,
   "id": "54a3ba99-611c-49a9-a551-6d7184da78ad",
   "metadata": {},
   "outputs": [],
   "source": [
    "l1=[1,2,3,4,5,6]\n",
    "s1="
   ]
  },
  {
   "cell_type": "code",
   "execution_count": 3,
   "id": "145d0757-4e09-4a7c-817a-ec9afd1c5d62",
   "metadata": {},
   "outputs": [
    {
     "data": {
      "text/plain": [
       "array([1, 4, 7])"
      ]
     },
     "execution_count": 3,
     "metadata": {},
     "output_type": "execute_result"
    }
   ],
   "source": [
    "np.arange(1,10,3)"
   ]
  },
  {
   "cell_type": "code",
   "execution_count": 3,
   "id": "6c2a0757-58c5-41b6-8000-cfc74fa2a906",
   "metadata": {},
   "outputs": [],
   "source": [
    "arr1=np.array([1,2,3,4,5,6])"
   ]
  },
  {
   "cell_type": "code",
   "execution_count": 4,
   "id": "f3927621-04d5-4158-a573-564333f7fc52",
   "metadata": {},
   "outputs": [
    {
     "data": {
      "text/plain": [
       "1"
      ]
     },
     "execution_count": 4,
     "metadata": {},
     "output_type": "execute_result"
    }
   ],
   "source": [
    "arr1.ndim"
   ]
  },
  {
   "cell_type": "code",
   "execution_count": 6,
   "id": "7a3289dd-7caf-4898-8a81-8ceec5db2fcf",
   "metadata": {},
   "outputs": [
    {
     "data": {
      "text/plain": [
       "(6,)"
      ]
     },
     "execution_count": 6,
     "metadata": {},
     "output_type": "execute_result"
    }
   ],
   "source": [
    "arr1.shape"
   ]
  },
  {
   "cell_type": "code",
   "execution_count": 7,
   "id": "0a7e3f55-7062-4bf1-8a82-66ef911ab3df",
   "metadata": {},
   "outputs": [
    {
     "data": {
      "text/plain": [
       "6"
      ]
     },
     "execution_count": 7,
     "metadata": {},
     "output_type": "execute_result"
    }
   ],
   "source": [
    "arr1.size"
   ]
  },
  {
   "cell_type": "code",
   "execution_count": 8,
   "id": "26d4a4bd-5b9c-4f71-8f49-af07531cb20d",
   "metadata": {},
   "outputs": [
    {
     "data": {
      "text/plain": [
       "dtype('int32')"
      ]
     },
     "execution_count": 8,
     "metadata": {},
     "output_type": "execute_result"
    }
   ],
   "source": [
    "arr1.dtype"
   ]
  },
  {
   "cell_type": "code",
   "execution_count": 9,
   "id": "34005100-c50c-4a35-ae8c-44bb814828af",
   "metadata": {},
   "outputs": [
    {
     "data": {
      "text/plain": [
       "array([[0., 0., 0.],\n",
       "       [0., 0., 0.]])"
      ]
     },
     "execution_count": 9,
     "metadata": {},
     "output_type": "execute_result"
    }
   ],
   "source": [
    "np.zeros((2,3))"
   ]
  },
  {
   "cell_type": "code",
   "execution_count": 10,
   "id": "b6a76eb1-1a58-40a9-a20c-8ce5260698cc",
   "metadata": {},
   "outputs": [
    {
     "data": {
      "text/plain": [
       "array([[1., 1.],\n",
       "       [1., 1.],\n",
       "       [1., 1.]])"
      ]
     },
     "execution_count": 10,
     "metadata": {},
     "output_type": "execute_result"
    }
   ],
   "source": [
    "np.ones((3,2))"
   ]
  },
  {
   "cell_type": "code",
   "execution_count": 11,
   "id": "f784dcc7-c11e-4201-af8f-a806a9d186b2",
   "metadata": {},
   "outputs": [
    {
     "data": {
      "text/plain": [
       "array([[1., 0., 0.],\n",
       "       [0., 1., 0.],\n",
       "       [0., 0., 1.]])"
      ]
     },
     "execution_count": 11,
     "metadata": {},
     "output_type": "execute_result"
    }
   ],
   "source": [
    "np.eye(3)"
   ]
  },
  {
   "cell_type": "code",
   "execution_count": 12,
   "id": "1f57abb0-e44d-4254-b3dd-efa0d7bcd68a",
   "metadata": {},
   "outputs": [
    {
     "data": {
      "text/plain": [
       "array([0.58842707, 0.95890022, 0.75717727, 0.14471075, 0.86722184,\n",
       "       0.91600106, 0.86719657, 0.99981076, 0.16816424, 0.96220227])"
      ]
     },
     "execution_count": 12,
     "metadata": {},
     "output_type": "execute_result"
    }
   ],
   "source": [
    "np.random.rand(10)"
   ]
  },
  {
   "cell_type": "code",
   "execution_count": 13,
   "id": "f8e1827a-8256-4d22-93be-0d13365f2ed5",
   "metadata": {},
   "outputs": [
    {
     "data": {
      "text/plain": [
       "16"
      ]
     },
     "execution_count": 13,
     "metadata": {},
     "output_type": "execute_result"
    }
   ],
   "source": [
    "np.random.randint(34)"
   ]
  },
  {
   "cell_type": "code",
   "execution_count": 14,
   "id": "e21f6058-509f-44ae-bfb0-7f14634e7160",
   "metadata": {},
   "outputs": [
    {
     "data": {
      "text/plain": [
       "array([227, 214, 471, 277, 331, 357])"
      ]
     },
     "execution_count": 14,
     "metadata": {},
     "output_type": "execute_result"
    }
   ],
   "source": [
    "np.random.randint(100,500,6)"
   ]
  },
  {
   "cell_type": "code",
   "execution_count": 18,
   "id": "ace64759-f723-4915-9018-581e9f67bbc6",
   "metadata": {},
   "outputs": [],
   "source": [
    "ls=[1,2,3,4,5,6]"
   ]
  },
  {
   "cell_type": "code",
   "execution_count": 20,
   "id": "0855b8ce-a808-4419-bc3d-3b18462db6ca",
   "metadata": {},
   "outputs": [
    {
     "data": {
      "text/plain": [
       "array([6, 1, 4, 5])"
      ]
     },
     "execution_count": 20,
     "metadata": {},
     "output_type": "execute_result"
    }
   ],
   "source": [
    "arr2=np.random.choice(ls,4)\n",
    "arr2"
   ]
  },
  {
   "cell_type": "code",
   "execution_count": 21,
   "id": "13e52662-4f2c-4d97-b49e-0a99f9d147f8",
   "metadata": {},
   "outputs": [],
   "source": [
    "arr1=np.array([[1,2],[3,4]])"
   ]
  },
  {
   "cell_type": "code",
   "execution_count": 22,
   "id": "cca41d0f-8d67-408e-9b9b-bc1e337231fc",
   "metadata": {},
   "outputs": [],
   "source": [
    "arr2=np.array([[5,6],[7,8]])"
   ]
  },
  {
   "cell_type": "code",
   "execution_count": 24,
   "id": "3476c9b3-9fb0-4e51-8ecf-045013a6d84e",
   "metadata": {},
   "outputs": [
    {
     "data": {
      "text/plain": [
       "array([[1, 2],\n",
       "       [3, 4]])"
      ]
     },
     "execution_count": 24,
     "metadata": {},
     "output_type": "execute_result"
    }
   ],
   "source": [
    "arr1\n"
   ]
  },
  {
   "cell_type": "code",
   "execution_count": 25,
   "id": "ea8a69eb-db4e-439c-a5ec-128cb7d0a43c",
   "metadata": {},
   "outputs": [
    {
     "data": {
      "text/plain": [
       "array([[5, 6],\n",
       "       [7, 8]])"
      ]
     },
     "execution_count": 25,
     "metadata": {},
     "output_type": "execute_result"
    }
   ],
   "source": [
    "arr2"
   ]
  },
  {
   "cell_type": "code",
   "execution_count": 27,
   "id": "614aed39-a506-4dac-bfce-f8d2ca48e7fc",
   "metadata": {},
   "outputs": [
    {
     "data": {
      "text/plain": [
       "array([[1, 2],\n",
       "       [3, 4],\n",
       "       [5, 6],\n",
       "       [7, 8]])"
      ]
     },
     "execution_count": 27,
     "metadata": {},
     "output_type": "execute_result"
    }
   ],
   "source": [
    "np.concatenate((arr1,arr2))"
   ]
  },
  {
   "cell_type": "code",
   "execution_count": 28,
   "id": "b55aebf3-df76-4a41-bc54-2dc62f2d71ed",
   "metadata": {},
   "outputs": [
    {
     "data": {
      "text/plain": [
       "array([[[1, 2],\n",
       "        [3, 4]],\n",
       "\n",
       "       [[5, 6],\n",
       "        [7, 8]]])"
      ]
     },
     "execution_count": 28,
     "metadata": {},
     "output_type": "execute_result"
    }
   ],
   "source": [
    "np.stack((arr1,arr2))"
   ]
  },
  {
   "cell_type": "code",
   "execution_count": 29,
   "id": "fb945ac8-1920-46c6-9143-073251aafae0",
   "metadata": {},
   "outputs": [
    {
     "data": {
      "text/plain": [
       "array([[1, 2],\n",
       "       [3, 4],\n",
       "       [5, 6],\n",
       "       [7, 8]])"
      ]
     },
     "execution_count": 29,
     "metadata": {},
     "output_type": "execute_result"
    }
   ],
   "source": [
    "np.vstack((arr1,arr2))"
   ]
  },
  {
   "cell_type": "code",
   "execution_count": 30,
   "id": "ca8a48dc-d8e9-4119-bfd7-7ca3c73a33b0",
   "metadata": {},
   "outputs": [
    {
     "data": {
      "text/plain": [
       "array([[1, 2, 5, 6],\n",
       "       [3, 4, 7, 8]])"
      ]
     },
     "execution_count": 30,
     "metadata": {},
     "output_type": "execute_result"
    }
   ],
   "source": [
    "np.hstack((arr1,arr2))"
   ]
  },
  {
   "cell_type": "code",
   "execution_count": 32,
   "id": "a226e84a-68e3-48be-9ca0-9d4650238e23",
   "metadata": {},
   "outputs": [
    {
     "data": {
      "text/plain": [
       "[array([[1, 2]]), array([[3, 4]]), array([], shape=(0, 2), dtype=int32)]"
      ]
     },
     "execution_count": 32,
     "metadata": {},
     "output_type": "execute_result"
    }
   ],
   "source": [
    "np.split(arr1,(1,2))"
   ]
  },
  {
   "cell_type": "code",
   "execution_count": 33,
   "id": "c4fc3541-45ba-4cb4-8e76-9eb8d8a77232",
   "metadata": {},
   "outputs": [
    {
     "data": {
      "text/plain": [
       "array([[19, 22],\n",
       "       [43, 50]])"
      ]
     },
     "execution_count": 33,
     "metadata": {},
     "output_type": "execute_result"
    }
   ],
   "source": [
    "np.dot(arr1,arr2)"
   ]
  },
  {
   "cell_type": "code",
   "execution_count": 34,
   "id": "efb06b89-c325-49a5-a4f4-b584dc1c34c5",
   "metadata": {},
   "outputs": [
    {
     "data": {
      "text/plain": [
       "array([[4, 5],\n",
       "       [6, 7]])"
      ]
     },
     "execution_count": 34,
     "metadata": {},
     "output_type": "execute_result"
    }
   ],
   "source": [
    "arr1+3"
   ]
  },
  {
   "cell_type": "code",
   "execution_count": 40,
   "id": "b3b5eb4a-391e-4cb9-ab9a-ac13bca85495",
   "metadata": {},
   "outputs": [
    {
     "data": {
      "text/plain": [
       "array([ 1,  4,  7, 10, 13])"
      ]
     },
     "execution_count": 40,
     "metadata": {},
     "output_type": "execute_result"
    }
   ],
   "source": [
    "arr1=np.arange(1,14,3)\n",
    "arr1"
   ]
  },
  {
   "cell_type": "code",
   "execution_count": 2,
   "id": "364003dd-d569-4a63-ba6c-78b2a448b441",
   "metadata": {},
   "outputs": [
    {
     "data": {
      "text/plain": [
       "array([ 1.        ,  1.41025641,  1.82051282,  2.23076923,  2.64102564,\n",
       "        3.05128205,  3.46153846,  3.87179487,  4.28205128,  4.69230769,\n",
       "        5.1025641 ,  5.51282051,  5.92307692,  6.33333333,  6.74358974,\n",
       "        7.15384615,  7.56410256,  7.97435897,  8.38461538,  8.79487179,\n",
       "        9.20512821,  9.61538462, 10.02564103, 10.43589744, 10.84615385,\n",
       "       11.25641026, 11.66666667, 12.07692308, 12.48717949, 12.8974359 ,\n",
       "       13.30769231, 13.71794872, 14.12820513, 14.53846154, 14.94871795,\n",
       "       15.35897436, 15.76923077, 16.17948718, 16.58974359, 17.        ])"
      ]
     },
     "execution_count": 2,
     "metadata": {},
     "output_type": "execute_result"
    }
   ],
   "source": [
    "import numpy as np\n",
    "np.linspace(1,17,40)"
   ]
  },
  {
   "cell_type": "code",
   "execution_count": 3,
   "id": "de3604b1-b5c2-4370-8877-5f8f0504420a",
   "metadata": {},
   "outputs": [
    {
     "data": {
      "text/plain": [
       "array([[1, 8, 5],\n",
       "       [3, 9, 3],\n",
       "       [4, 5, 2]])"
      ]
     },
     "execution_count": 3,
     "metadata": {},
     "output_type": "execute_result"
    }
   ],
   "source": [
    "np.random.randint(1, 10, (3, 3))"
   ]
  },
  {
   "cell_type": "code",
   "execution_count": 4,
   "id": "d0ca027e-0fff-4b4f-9c7c-f08352067fac",
   "metadata": {},
   "outputs": [],
   "source": [
    "arr = np.array([[1, 2, 3], [4, 5, 6]]) \n",
    "result = np.transpose(arr) "
   ]
  },
  {
   "cell_type": "code",
   "execution_count": 5,
   "id": "00fb6a9e-a383-406f-b546-1a8e98d700a0",
   "metadata": {},
   "outputs": [
    {
     "data": {
      "text/plain": [
       "array([[1, 4],\n",
       "       [2, 5],\n",
       "       [3, 6]])"
      ]
     },
     "execution_count": 5,
     "metadata": {},
     "output_type": "execute_result"
    }
   ],
   "source": [
    "result"
   ]
  },
  {
   "cell_type": "code",
   "execution_count": 11,
   "id": "ac08f6cc-598f-4ee2-9287-d3cd205579b4",
   "metadata": {},
   "outputs": [],
   "source": [
    "arr1=np.array([1,2,3])\n",
    "arr2=np.array([4,5,6])"
   ]
  },
  {
   "cell_type": "code",
   "execution_count": 12,
   "id": "34d285a5-b1ef-4fcb-b550-a095330fbe56",
   "metadata": {},
   "outputs": [
    {
     "data": {
      "text/plain": [
       "32"
      ]
     },
     "execution_count": 12,
     "metadata": {},
     "output_type": "execute_result"
    }
   ],
   "source": [
    "np.dot(arr1,arr2)"
   ]
  },
  {
   "cell_type": "code",
   "execution_count": null,
   "id": "b2961d42-fca4-4589-b1d7-f51778a5b787",
   "metadata": {},
   "outputs": [],
   "source": []
  },
  {
   "cell_type": "code",
   "execution_count": null,
   "id": "37f8547e-51d8-42e8-85b4-162fa973276c",
   "metadata": {},
   "outputs": [],
   "source": []
  },
  {
   "cell_type": "code",
   "execution_count": null,
   "id": "e5ad62ac-91bb-43f8-8f35-dc430027549d",
   "metadata": {},
   "outputs": [],
   "source": []
  },
  {
   "cell_type": "code",
   "execution_count": null,
   "id": "9afbcc4e-804d-41e6-929b-98db88abcc02",
   "metadata": {},
   "outputs": [],
   "source": []
  },
  {
   "cell_type": "code",
   "execution_count": null,
   "id": "538208a6-85f9-4de4-b333-575d2c617870",
   "metadata": {},
   "outputs": [],
   "source": []
  },
  {
   "cell_type": "code",
   "execution_count": null,
   "id": "3e4f0037-c2a9-4eb5-9762-380fc62315aa",
   "metadata": {},
   "outputs": [],
   "source": []
  },
  {
   "cell_type": "code",
   "execution_count": null,
   "id": "37c04f49-73f5-462d-88f6-2caaa3a46c7c",
   "metadata": {},
   "outputs": [],
   "source": []
  },
  {
   "cell_type": "code",
   "execution_count": null,
   "id": "c683df44-7809-4a00-ba26-2945d81f6999",
   "metadata": {},
   "outputs": [],
   "source": []
  },
  {
   "cell_type": "code",
   "execution_count": null,
   "id": "e88e2733-8af1-4d5d-8d09-6ca20d3cc5b4",
   "metadata": {},
   "outputs": [],
   "source": []
  }
 ],
 "metadata": {
  "kernelspec": {
   "display_name": "Python 3 (ipykernel)",
   "language": "python",
   "name": "python3"
  },
  "language_info": {
   "codemirror_mode": {
    "name": "ipython",
    "version": 3
   },
   "file_extension": ".py",
   "mimetype": "text/x-python",
   "name": "python",
   "nbconvert_exporter": "python",
   "pygments_lexer": "ipython3",
   "version": "3.12.1"
  }
 },
 "nbformat": 4,
 "nbformat_minor": 5
}
