{
 "cells": [
  {
   "cell_type": "code",
   "execution_count": 1,
   "id": "6b3824a5-2bd6-4ce6-9393-4d6f658374fa",
   "metadata": {},
   "outputs": [],
   "source": [
    "import numpy as np\n",
    "import matplotlib.pyplot as plt\n"
   ]
  },
  {
   "cell_type": "code",
   "execution_count": 3,
   "id": "9af356c1-142a-4284-95a1-6b81ecc7b4f9",
   "metadata": {},
   "outputs": [],
   "source": [
    "age = np.array([12,34,23,76,38,54,21])\n",
    "insurance= np.array([0,1,0,1,1,1,0])"
   ]
  },
  {
   "cell_type": "code",
   "execution_count": 4,
   "id": "76c87de1-303b-4285-807b-32bb0eeaaa0b",
   "metadata": {},
   "outputs": [
    {
     "data": {
      "text/plain": [
       "array([12, 34, 23, 76, 38, 54, 21])"
      ]
     },
     "execution_count": 4,
     "metadata": {},
     "output_type": "execute_result"
    }
   ],
   "source": [
    "age"
   ]
  },
  {
   "cell_type": "code",
   "execution_count": 5,
   "id": "8ada8e5a-b4d4-40c9-abd2-4b1ae3a47341",
   "metadata": {},
   "outputs": [
    {
     "data": {
      "text/plain": [
       "array([0, 1, 0, 1, 1, 1, 0])"
      ]
     },
     "execution_count": 5,
     "metadata": {},
     "output_type": "execute_result"
    }
   ],
   "source": [
    "insurance"
   ]
  },
  {
   "cell_type": "code",
   "execution_count": 28,
   "id": "d4288e4c-6a96-4bdd-be41-012c8982a802",
   "metadata": {},
   "outputs": [],
   "source": [
    "lr=0.01\n",
    "w=0\n",
    "b=0\n",
    "epochs=2000\n",
    "for i in range(epochs):\n",
    "    pred_proba=1/(1+np.exp(-w*age-b))\n",
    "    cost = -np.mean(insurance * np.log(pred_proba)+(1-insurance)*np.log(1-pred_proba))\n",
    "    w_slope=-np.mean(age*(insurance-pred_proba))\n",
    "    b_slope=-np.mean(insurance-pred_proba)\n",
    "    w=w-(lr*w_slope)\n",
    "    b=b-(lr*b_slope)"
   ]
  },
  {
   "cell_type": "code",
   "execution_count": 29,
   "id": "4859742e-e7f1-48fd-bc5d-34c40c9eb4a9",
   "metadata": {},
   "outputs": [
    {
     "data": {
      "text/plain": [
       "0.30666230853769777"
      ]
     },
     "execution_count": 29,
     "metadata": {},
     "output_type": "execute_result"
    }
   ],
   "source": [
    "cost"
   ]
  },
  {
   "cell_type": "code",
   "execution_count": 30,
   "id": "dce3d0b5-57cc-493d-a883-30bbfa58ea22",
   "metadata": {},
   "outputs": [
    {
     "data": {
      "text/plain": [
       "0.0907213947453845"
      ]
     },
     "execution_count": 30,
     "metadata": {},
     "output_type": "execute_result"
    }
   ],
   "source": [
    "w"
   ]
  },
  {
   "cell_type": "code",
   "execution_count": 31,
   "id": "b635d87a-7e5b-46cd-a8a5-26c5c585bcd3",
   "metadata": {},
   "outputs": [
    {
     "data": {
      "text/plain": [
       "-2.2095336542370574"
      ]
     },
     "execution_count": 31,
     "metadata": {},
     "output_type": "execute_result"
    }
   ],
   "source": [
    "b"
   ]
  },
  {
   "cell_type": "code",
   "execution_count": 19,
   "id": "e2004e13-f1ba-44d5-b1e4-fb011db3efa2",
   "metadata": {},
   "outputs": [],
   "source": [
    "sigma = 1/(1+np.exp(-w*age-b))"
   ]
  },
  {
   "cell_type": "code",
   "execution_count": 20,
   "id": "d2111423-dd57-43d9-9389-773f98a84780",
   "metadata": {},
   "outputs": [
    {
     "data": {
      "text/plain": [
       "array([0.24584866, 0.70578373, 0.46930326, 0.99085438, 0.77519467,\n",
       "       0.93639955, 0.42448604])"
      ]
     },
     "execution_count": 20,
     "metadata": {},
     "output_type": "execute_result"
    }
   ],
   "source": [
    "sigma"
   ]
  },
  {
   "cell_type": "code",
   "execution_count": 21,
   "id": "0eef9bc3-677b-415d-961a-875a702ce584",
   "metadata": {},
   "outputs": [
    {
     "data": {
      "text/plain": [
       "array([0, 1, 0, 1, 1, 1, 0])"
      ]
     },
     "execution_count": 21,
     "metadata": {},
     "output_type": "execute_result"
    }
   ],
   "source": [
    "insurance"
   ]
  },
  {
   "cell_type": "code",
   "execution_count": 27,
   "id": "b4de78ee-d5aa-4a76-9331-6f7a3135b4e5",
   "metadata": {},
   "outputs": [
    {
     "data": {
      "text/plain": [
       "[<matplotlib.lines.Line2D at 0x245d40deff0>]"
      ]
     },
     "execution_count": 27,
     "metadata": {},
     "output_type": "execute_result"
    },
    {
     "data": {
      "image/png": "[encoded data removed]",
      "text/plain": [
       "<Figure size 640x480 with 1 Axes>"
      ]
     },
     "metadata": {},
     "output_type": "display_data"
    }
   ],
   "source": [
    "plt.scatter(age,sigma)\n",
    "plt.grid(True)\n",
    "plt.axhline(0.5,color=\"red\")\n",
    "plt.plot(sorted(age),sorted(sigma))"
   ]
  },
  {
   "cell_type": "code",
   "execution_count": 25,
   "id": "6674d254-0e23-4bd9-abeb-e14fade9cd7e",
   "metadata": {},
   "outputs": [
    {
     "data": {
      "text/plain": [
       "array([12, 34, 23, 76, 38, 54, 21])"
      ]
     },
     "execution_count": 25,
     "metadata": {},
     "output_type": "execute_result"
    }
   ],
   "source": [
    "age"
   ]
  },
  {
   "cell_type": "code",
   "execution_count": null,
   "id": "d7c727aa-8dda-499c-98ed-9ec2a9b0d16b",
   "metadata": {},
   "outputs": [],
   "source": []
  }
 ],
 "metadata": {
  "kernelspec": {
   "display_name": "Python 3 (ipykernel)",
   "language": "python",
   "name": "python3"
  },
  "language_info": {
   "codemirror_mode": {
    "name": "ipython",
    "version": 3
   },
   "file_extension": ".py",
   "mimetype": "text/x-python",
   "name": "python",
   "nbconvert_exporter": "python",
   "pygments_lexer": "ipython3",
   "version": "3.12.1"
  }
 },
 "nbformat": 4,
 "nbformat_minor": 5
}
